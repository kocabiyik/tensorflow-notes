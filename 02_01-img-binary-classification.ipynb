{
 "cells": [
  {
   "cell_type": "markdown",
   "metadata": {},
   "source": [
    "Things to learn in this section:\n",
    "\n",
    "✔️ Build and train models to process real-world image datasets.  \n",
    "✔️ Use real-world images in different shapes and sizes.  \n",
    "✔️ Use image augmentation to prevent overfitting.  \n",
    "✔️ Use ImageDataGenerator.  \n",
    "✔️ Understand how ImageDataGenerator labels images based on the directory structure.  "
   ]
  },
  {
   "cell_type": "code",
   "execution_count": 1,
   "metadata": {},
   "outputs": [],
   "source": [
    "# run only once\n",
    "from tensorflow.compat.v1 import ConfigProto\n",
    "from tensorflow.compat.v1 import InteractiveSession\n",
    "\n",
    "config = ConfigProto()\n",
    "config.gpu_options.allow_growth = True\n",
    "session = InteractiveSession(config=config)"
   ]
  },
  {
   "cell_type": "code",
   "execution_count": 82,
   "metadata": {},
   "outputs": [],
   "source": [
    "import os\n",
    "import tensorflow as tf\n",
    "from tensorflow.keras.layers import Conv2D, MaxPooling2D, Flatten, Dense\n",
    "from tensorflow.keras.models import Sequential\n",
    "from tensorflow.keras.optimizers import RMSprop"
   ]
  },
  {
   "cell_type": "markdown",
   "metadata": {},
   "source": [
    "## Dataset"
   ]
  },
  {
   "cell_type": "code",
   "execution_count": 109,
   "metadata": {},
   "outputs": [],
   "source": [
    "from pathlib import Path\n",
    "home = str(Path.home())\n",
    "base_dir = os.path.join(home, 'datasets/dogs-vs-cats')"
   ]
  },
  {
   "cell_type": "code",
   "execution_count": 110,
   "metadata": {},
   "outputs": [],
   "source": [
    "path_to_zip_file = os.path.join(base_dir, 'train.zip') \n",
    "directory_to_extract_to = os.path.join(base_dir, 'train')"
   ]
  },
  {
   "cell_type": "code",
   "execution_count": 111,
   "metadata": {},
   "outputs": [],
   "source": [
    "# unzip files\n",
    "import zipfile\n",
    "if not os.path.exists(directory_to_extract_to):\n",
    "    with zipfile.ZipFile(path_to_zip_file, 'r') as zip_ref:\n",
    "        zip_ref.extractall(base_dir)"
   ]
  },
  {
   "cell_type": "code",
   "execution_count": 112,
   "metadata": {},
   "outputs": [],
   "source": [
    "all_files = os.listdir(directory_to_extract_to)\n",
    "cat_files = [f for f in all_files if 'cat' in f]\n",
    "dog_files = [f for f in all_files if 'dog' in f]"
   ]
  },
  {
   "cell_type": "code",
   "execution_count": 113,
   "metadata": {},
   "outputs": [],
   "source": [
    "val_size = int(len(cat_files)//4)"
   ]
  },
  {
   "cell_type": "markdown",
   "metadata": {},
   "source": [
    "# Split data into train and validation"
   ]
  },
  {
   "cell_type": "code",
   "execution_count": 114,
   "metadata": {},
   "outputs": [],
   "source": [
    "import random\n",
    "random.shuffle(cat_files)\n",
    "random.shuffle(dog_files)\n",
    "cat_files_validation = cat_files[:val_size]\n",
    "dog_files_validation = dog_files[:val_size]"
   ]
  },
  {
   "cell_type": "markdown",
   "metadata": {},
   "source": [
    "## Define Data Directory"
   ]
  },
  {
   "cell_type": "markdown",
   "metadata": {},
   "source": [
    "    .\n",
    "    ├── test\n",
    "    ├── train\n",
    "    │   ├── cats\n",
    "    │   └── dogs\n",
    "    └── validation\n",
    "        ├── cats\n",
    "        └── dogs"
   ]
  },
  {
   "cell_type": "code",
   "execution_count": 115,
   "metadata": {},
   "outputs": [],
   "source": [
    "train_dir = os.path.join(base_dir, 'train')\n",
    "validation_dir = os.path.join(base_dir, 'validation')\n",
    "\n",
    "# Directory with our training cat/dog pictures\n",
    "train_cats_dir = os.path.join(train_dir, 'cats')\n",
    "train_dogs_dir = os.path.join(train_dir, 'dogs')\n",
    "\n",
    "# Directory with our validation cat/dog pictures\n",
    "validation_cats_dir = os.path.join(validation_dir, 'cats')\n",
    "validation_dogs_dir = os.path.join(validation_dir, 'dogs')\n",
    "\n",
    "if not os.path.exists(validation_dir):\n",
    "    os.mkdir(validation_dir)\n",
    "if not os.path.exists(validation_cats_dir):\n",
    "    os.mkdir(validation_cats_dir)\n",
    "if not os.path.exists(validation_dogs_dir):\n",
    "    os.mkdir(validation_dogs_dir)\n",
    "if not os.path.exists(train_dir):\n",
    "    os.mkdir(train_dir)\n",
    "if not os.path.exists(train_cats_dir):\n",
    "    os.mkdir(train_cats_dir)\n",
    "if not os.path.exists(train_dogs_dir):\n",
    "    os.mkdir(train_dogs_dir)"
   ]
  },
  {
   "cell_type": "code",
   "execution_count": 119,
   "metadata": {},
   "outputs": [],
   "source": [
    "from shutil import move\n",
    "\n",
    "# cats\n",
    "for i in cat_files_validation:\n",
    "    src=os.path.join(train_dir, i)\n",
    "    dest=os.path.join(validation_cats_dir, i)\n",
    "    move(src, dest)\n",
    "    \n",
    "cats_files_training = [f for f in cat_files if f not in cat_files_validation]\n",
    "for i in cats_files_training:\n",
    "    src=os.path.join(train_dir, i)\n",
    "    dest=os.path.join(train_cats_dir, i)\n",
    "    move(src, dest)    "
   ]
  },
  {
   "cell_type": "code",
   "execution_count": 120,
   "metadata": {},
   "outputs": [],
   "source": [
    "# dogs\n",
    "for i in dog_files_validation:\n",
    "    src=os.path.join(train_dir, i)\n",
    "    dest=os.path.join(validation_dogs_dir, i)\n",
    "    move(src, dest) \n",
    "\n",
    "dog_files_training = [f for f in dog_files if f not in dog_files_validation]\n",
    "for i in dog_files_training:\n",
    "    src=os.path.join(train_dir, i)\n",
    "    dest=os.path.join(train_dogs_dir, i)\n",
    "    move(src, dest)"
   ]
  },
  {
   "cell_type": "code",
   "execution_count": 121,
   "metadata": {},
   "outputs": [
    {
     "name": "stdout",
     "output_type": "stream",
     "text": [
      "9375\n",
      "9375\n",
      "3125\n",
      "3125\n"
     ]
    }
   ],
   "source": [
    "print(len(os.listdir(train_cats_dir)))\n",
    "print(len(os.listdir(train_dogs_dir)))\n",
    "print(len(os.listdir(validation_cats_dir)))\n",
    "print(len(os.listdir(validation_dogs_dir)))"
   ]
  },
  {
   "cell_type": "markdown",
   "metadata": {},
   "source": [
    "## Build a Model"
   ]
  },
  {
   "cell_type": "code",
   "execution_count": 122,
   "metadata": {},
   "outputs": [],
   "source": [
    "# build model\n",
    "model = Sequential([\n",
    "    Conv2D(8, (3,3), activation='relu', input_shape = (64,64,3)),\n",
    "    MaxPooling2D((3,3)),\n",
    "    \n",
    "    Conv2D(16, (3,3), activation='relu'),\n",
    "    MaxPooling2D((3,3)),    \n",
    "    \n",
    "    Flatten(),\n",
    "    Dense(512, activation=tf.nn.relu),\n",
    "    Dense(128, activation=tf.nn.relu),\n",
    "    Dense(1, activation=tf.nn.sigmoid)\n",
    "])\n",
    "\n",
    "model.compile(optimizer=RMSprop(lr=0.001),\n",
    "              loss='binary_crossentropy',\n",
    "              metrics = ['accuracy'])"
   ]
  },
  {
   "cell_type": "markdown",
   "metadata": {},
   "source": [
    "- __Use ImageDataGenerator__\n",
    "- __Understand how ImageDataGenerator labels images based on the directory structure.__\n"
   ]
  },
  {
   "cell_type": "code",
   "execution_count": 123,
   "metadata": {},
   "outputs": [],
   "source": [
    "from tensorflow.keras.preprocessing.image import ImageDataGenerator"
   ]
  },
  {
   "cell_type": "markdown",
   "metadata": {},
   "source": [
    "- __Use image augmentation to prevent overfitting.__"
   ]
  },
  {
   "cell_type": "code",
   "execution_count": 124,
   "metadata": {},
   "outputs": [],
   "source": [
    "train_datagen = ImageDataGenerator(\n",
    "    rescale=1./255,\n",
    "    rotation_range=40,\n",
    "    width_shift_range=0.2,\n",
    "    height_shift_range=0.2,\n",
    "    shear_range=0.2,\n",
    "    zoom_range=0.2,\n",
    "    horizontal_flip=True,\n",
    "    fill_mode='nearest'\n",
    ")\n",
    "\n",
    "validation_datagen = ImageDataGenerator(rescale = 1.0/255.)"
   ]
  },
  {
   "cell_type": "code",
   "execution_count": 125,
   "metadata": {},
   "outputs": [
    {
     "name": "stdout",
     "output_type": "stream",
     "text": [
      "Found 18750 images belonging to 2 classes.\n",
      "Found 6250 images belonging to 2 classes.\n"
     ]
    }
   ],
   "source": [
    "train_generator = train_datagen.flow_from_directory(\n",
    "    train_dir,\n",
    "    batch_size=20,\n",
    "    class_mode='binary',\n",
    "    target_size=(64,64)\n",
    ")\n",
    "\n",
    "validation_generator = validation_datagen.flow_from_directory(\n",
    "    validation_dir,\n",
    "    batch_size=20,\n",
    "    class_mode='binary',\n",
    "    target_size=(64,64)\n",
    ")"
   ]
  },
  {
   "cell_type": "code",
   "execution_count": 126,
   "metadata": {},
   "outputs": [
    {
     "name": "stdout",
     "output_type": "stream",
     "text": [
      "Train for 100 steps, validate for 50 steps\n",
      "Epoch 1/15\n",
      "100/100 - 49s - loss: 0.7054 - accuracy: 0.5300 - val_loss: 0.6728 - val_accuracy: 0.6110\n",
      "Epoch 2/15\n",
      "100/100 - 51s - loss: 0.6833 - accuracy: 0.5510 - val_loss: 0.6620 - val_accuracy: 0.5820\n",
      "Epoch 3/15\n",
      "100/100 - 50s - loss: 0.6611 - accuracy: 0.6000 - val_loss: 0.6628 - val_accuracy: 0.5980\n",
      "Epoch 4/15\n",
      "100/100 - 51s - loss: 0.6508 - accuracy: 0.6030 - val_loss: 0.6729 - val_accuracy: 0.5540\n",
      "Epoch 5/15\n",
      "100/100 - 50s - loss: 0.6541 - accuracy: 0.6200 - val_loss: 0.6116 - val_accuracy: 0.6810\n",
      "Epoch 6/15\n",
      "100/100 - 50s - loss: 0.6367 - accuracy: 0.6325 - val_loss: 0.6982 - val_accuracy: 0.5760\n",
      "Epoch 7/15\n",
      "100/100 - 51s - loss: 0.6440 - accuracy: 0.6255 - val_loss: 0.6040 - val_accuracy: 0.6830\n",
      "Epoch 8/15\n",
      "100/100 - 49s - loss: 0.6354 - accuracy: 0.6375 - val_loss: 0.5866 - val_accuracy: 0.6970\n",
      "Epoch 9/15\n",
      "100/100 - 50s - loss: 0.6230 - accuracy: 0.6465 - val_loss: 0.5897 - val_accuracy: 0.6880\n",
      "Epoch 10/15\n",
      "100/100 - 51s - loss: 0.6279 - accuracy: 0.6485 - val_loss: 0.6516 - val_accuracy: 0.6260\n",
      "Epoch 11/15\n",
      "100/100 - 50s - loss: 0.6254 - accuracy: 0.6440 - val_loss: 0.6398 - val_accuracy: 0.6630\n",
      "Epoch 12/15\n",
      "100/100 - 51s - loss: 0.6205 - accuracy: 0.6565 - val_loss: 0.6614 - val_accuracy: 0.6420\n",
      "Epoch 13/15\n",
      "100/100 - 49s - loss: 0.6210 - accuracy: 0.6625 - val_loss: 0.5909 - val_accuracy: 0.6850\n",
      "Epoch 14/15\n",
      "100/100 - 53s - loss: 0.6319 - accuracy: 0.6560 - val_loss: 0.5775 - val_accuracy: 0.6970\n",
      "Epoch 15/15\n",
      "100/100 - 50s - loss: 0.6127 - accuracy: 0.6605 - val_loss: 0.6042 - val_accuracy: 0.6830\n"
     ]
    }
   ],
   "source": [
    "history = model.fit(\n",
    "    train_generator,\n",
    "    validation_data=validation_generator,\n",
    "    epochs=15,\n",
    "    steps_per_epoch=100,\n",
    "    validation_steps=50,\n",
    "    verbose=2\n",
    ")"
   ]
  },
  {
   "cell_type": "code",
   "execution_count": null,
   "metadata": {},
   "outputs": [],
   "source": []
  }
 ],
 "metadata": {
  "kernelspec": {
   "display_name": "Python 3",
   "language": "python",
   "name": "python3"
  },
  "language_info": {
   "codemirror_mode": {
    "name": "ipython",
    "version": 3
   },
   "file_extension": ".py",
   "mimetype": "text/x-python",
   "name": "python",
   "nbconvert_exporter": "python",
   "pygments_lexer": "ipython3",
   "version": "3.7.5"
  }
 },
 "nbformat": 4,
 "nbformat_minor": 4
}

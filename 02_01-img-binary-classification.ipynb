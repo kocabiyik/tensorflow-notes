{
 "cells": [
  {
   "cell_type": "markdown",
   "metadata": {},
   "source": [
    "Things to learn in this section:\n",
    "\n",
    "✔️ Build and train models to process real-world image datasets.  \n",
    "✔️ Use real-world images in different shapes and sizes.  \n",
    "✔️ Use image augmentation to prevent overfitting.  \n",
    "✔️ Use ImageDataGenerator.  \n",
    "✔️ Understand how ImageDataGenerator labels images based on the directory structure.  "
   ]
  },
  {
   "cell_type": "code",
   "execution_count": 1,
   "metadata": {},
   "outputs": [],
   "source": [
    "# run only once\n",
    "from tensorflow.compat.v1 import ConfigProto\n",
    "from tensorflow.compat.v1 import InteractiveSession\n",
    "\n",
    "config = ConfigProto()\n",
    "config.gpu_options.allow_growth = True\n",
    "session = InteractiveSession(config=config)"
   ]
  },
  {
   "cell_type": "code",
   "execution_count": 2,
   "metadata": {},
   "outputs": [],
   "source": [
    "import os\n",
    "import tensorflow as tf\n",
    "from tensorflow.keras.layers import Conv2D, MaxPooling2D, Flatten, Dense\n",
    "from tensorflow.keras.models import Sequential\n",
    "from tensorflow.keras.optimizers import RMSprop"
   ]
  },
  {
   "cell_type": "markdown",
   "metadata": {},
   "source": [
    "## Define Data Directory"
   ]
  },
  {
   "cell_type": "markdown",
   "metadata": {},
   "source": [
    "    .\n",
    "    ├── test\n",
    "    ├── train\n",
    "    │   ├── cats\n",
    "    │   └── dogs\n",
    "    └── validation\n",
    "        ├── cats\n",
    "        └── dogs"
   ]
  },
  {
   "cell_type": "code",
   "execution_count": 3,
   "metadata": {},
   "outputs": [],
   "source": [
    "from pathlib import Path\n",
    "home = str(Path.home())\n",
    "base_dir = os.path.join(home, 'datasets/cats_and_dogs_filtered')"
   ]
  },
  {
   "cell_type": "code",
   "execution_count": 4,
   "metadata": {},
   "outputs": [],
   "source": [
    "train_dir = os.path.join(base_dir, 'train')\n",
    "validation_dir = os.path.join(base_dir, 'validation')\n",
    "\n",
    "# Directory with our training cat/dog pictures\n",
    "train_cats_dir = os.path.join(train_dir, 'cats')\n",
    "train_dogs_dir = os.path.join(train_dir, 'dogs')\n",
    "\n",
    "# Directory with our validation cat/dog pictures\n",
    "validation_cats_dir = os.path.join(validation_dir, 'cats')\n",
    "validation_dogs_dir = os.path.join(validation_dir, 'dogs')"
   ]
  },
  {
   "cell_type": "code",
   "execution_count": 5,
   "metadata": {},
   "outputs": [
    {
     "name": "stdout",
     "output_type": "stream",
     "text": [
      "1000\n",
      "1000\n",
      "500\n",
      "500\n"
     ]
    }
   ],
   "source": [
    "print(len(os.listdir(train_cats_dir)))\n",
    "print(len(os.listdir(train_dogs_dir)))\n",
    "print(len(os.listdir(validation_cats_dir)))\n",
    "print(len(os.listdir(validation_dogs_dir)))"
   ]
  },
  {
   "cell_type": "markdown",
   "metadata": {},
   "source": [
    "## Build a Model"
   ]
  },
  {
   "cell_type": "code",
   "execution_count": 7,
   "metadata": {},
   "outputs": [],
   "source": [
    "# build model\n",
    "model = Sequential([\n",
    "    Conv2D(8, (3,3), activation='relu', input_shape = (64,64,3)),\n",
    "    MaxPooling2D((3,3)),\n",
    "    \n",
    "    Conv2D(16, (3,3), activation='relu'),\n",
    "    MaxPooling2D((3,3)),    \n",
    "    \n",
    "    Flatten(),\n",
    "    Dense(512, activation=tf.nn.relu),\n",
    "    Dense(128, activation=tf.nn.relu),\n",
    "    Dense(1, activation=tf.nn.sigmoid)\n",
    "])\n",
    "\n",
    "model.compile(optimizer=RMSprop(lr=0.001),\n",
    "              loss='binary_crossentropy',\n",
    "              metrics = ['accuracy'])"
   ]
  },
  {
   "cell_type": "markdown",
   "metadata": {},
   "source": [
    "- __Use ImageDataGenerator__\n",
    "- __Understand how ImageDataGenerator labels images based on the directory structure.__\n"
   ]
  },
  {
   "cell_type": "code",
   "execution_count": 8,
   "metadata": {},
   "outputs": [],
   "source": [
    "from tensorflow.keras.preprocessing.image import ImageDataGenerator"
   ]
  },
  {
   "cell_type": "markdown",
   "metadata": {},
   "source": [
    "- __Use image augmentation to prevent overfitting.__"
   ]
  },
  {
   "cell_type": "code",
   "execution_count": 9,
   "metadata": {},
   "outputs": [],
   "source": [
    "train_datagen = ImageDataGenerator(\n",
    "    rescale=1./255,\n",
    "    rotation_range=40,\n",
    "    width_shift_range=0.2,\n",
    "    height_shift_range=0.2,\n",
    "    shear_range=0.2,\n",
    "    zoom_range=0.2,\n",
    "    horizontal_flip=True,\n",
    "    fill_mode='nearest'\n",
    ")\n",
    "\n",
    "validation_datagen = ImageDataGenerator(rescale = 1.0/255.)"
   ]
  },
  {
   "cell_type": "code",
   "execution_count": 10,
   "metadata": {},
   "outputs": [
    {
     "name": "stdout",
     "output_type": "stream",
     "text": [
      "Found 2000 images belonging to 2 classes.\n",
      "Found 1000 images belonging to 2 classes.\n"
     ]
    }
   ],
   "source": [
    "train_generator = train_datagen.flow_from_directory(\n",
    "    train_dir,\n",
    "    batch_size=20,\n",
    "    class_mode='binary',\n",
    "    target_size=(64,64)\n",
    ")\n",
    "\n",
    "validation_generator = validation_datagen.flow_from_directory(\n",
    "    validation_dir,\n",
    "    batch_size=20,\n",
    "    class_mode='binary',\n",
    "    target_size=(64,64)\n",
    ")"
   ]
  },
  {
   "cell_type": "code",
   "execution_count": 11,
   "metadata": {},
   "outputs": [
    {
     "name": "stdout",
     "output_type": "stream",
     "text": [
      "Epoch 1/15\n",
      "100/100 - 7s - loss: 0.7035 - accuracy: 0.5175 - val_loss: 0.6880 - val_accuracy: 0.5340\n",
      "Epoch 2/15\n",
      "100/100 - 7s - loss: 0.6889 - accuracy: 0.5455 - val_loss: 0.6773 - val_accuracy: 0.5510\n",
      "Epoch 3/15\n",
      "100/100 - 7s - loss: 0.6721 - accuracy: 0.5905 - val_loss: 0.6758 - val_accuracy: 0.5450\n",
      "Epoch 4/15\n",
      "100/100 - 7s - loss: 0.6568 - accuracy: 0.6165 - val_loss: 0.6434 - val_accuracy: 0.6420\n",
      "Epoch 5/15\n",
      "100/100 - 7s - loss: 0.6572 - accuracy: 0.6175 - val_loss: 0.6420 - val_accuracy: 0.6350\n",
      "Epoch 6/15\n",
      "100/100 - 7s - loss: 0.6388 - accuracy: 0.6350 - val_loss: 0.6374 - val_accuracy: 0.6410\n",
      "Epoch 7/15\n",
      "100/100 - 7s - loss: 0.6382 - accuracy: 0.6475 - val_loss: 0.5974 - val_accuracy: 0.6710\n",
      "Epoch 8/15\n",
      "100/100 - 7s - loss: 0.6314 - accuracy: 0.6440 - val_loss: 0.6010 - val_accuracy: 0.6570\n",
      "Epoch 9/15\n",
      "100/100 - 7s - loss: 0.6322 - accuracy: 0.6455 - val_loss: 0.5881 - val_accuracy: 0.6850\n",
      "Epoch 10/15\n",
      "100/100 - 7s - loss: 0.6142 - accuracy: 0.6655 - val_loss: 0.5860 - val_accuracy: 0.6720\n",
      "Epoch 11/15\n",
      "100/100 - 7s - loss: 0.6114 - accuracy: 0.6635 - val_loss: 0.6058 - val_accuracy: 0.6460\n",
      "Epoch 12/15\n",
      "100/100 - 7s - loss: 0.6192 - accuracy: 0.6665 - val_loss: 0.5729 - val_accuracy: 0.6800\n",
      "Epoch 13/15\n",
      "100/100 - 7s - loss: 0.6014 - accuracy: 0.6695 - val_loss: 0.5950 - val_accuracy: 0.6670\n",
      "Epoch 14/15\n",
      "100/100 - 7s - loss: 0.5973 - accuracy: 0.6830 - val_loss: 0.6635 - val_accuracy: 0.6390\n",
      "Epoch 15/15\n",
      "100/100 - 7s - loss: 0.5965 - accuracy: 0.6855 - val_loss: 0.5893 - val_accuracy: 0.6660\n"
     ]
    }
   ],
   "source": [
    "history = model.fit(\n",
    "    train_generator,\n",
    "    validation_data=validation_generator,\n",
    "    epochs=15,\n",
    "    steps_per_epoch=100,\n",
    "    validation_steps=50,\n",
    "    verbose=2\n",
    ")"
   ]
  },
  {
   "cell_type": "code",
   "execution_count": null,
   "metadata": {},
   "outputs": [],
   "source": []
  }
 ],
 "metadata": {
  "kernelspec": {
   "display_name": "Python 3",
   "language": "python",
   "name": "python3"
  },
  "language_info": {
   "codemirror_mode": {
    "name": "ipython",
    "version": 3
   },
   "file_extension": ".py",
   "mimetype": "text/x-python",
   "name": "python",
   "nbconvert_exporter": "python",
   "pygments_lexer": "ipython3",
   "version": "3.7.7"
  }
 },
 "nbformat": 4,
 "nbformat_minor": 4
}

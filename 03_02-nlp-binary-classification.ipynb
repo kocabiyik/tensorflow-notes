{
 "cells": [
  {
   "cell_type": "code",
   "execution_count": 1,
   "metadata": {
    "colab": {},
    "colab_type": "code",
    "id": "P-AhVYeBWgQ3"
   },
   "outputs": [],
   "source": [
    "import tensorflow as tf\n",
    "import numpy as np"
   ]
  },
  {
   "cell_type": "code",
   "execution_count": 2,
   "metadata": {},
   "outputs": [],
   "source": [
    "# run only once\n",
    "from tensorflow.compat.v1 import ConfigProto\n",
    "from tensorflow.compat.v1 import InteractiveSession\n",
    "\n",
    "config = ConfigProto()\n",
    "config.gpu_options.allow_growth = True\n",
    "session = InteractiveSession(config=config)"
   ]
  },
  {
   "cell_type": "markdown",
   "metadata": {},
   "source": [
    "## Dataset: News Headline with Sarcasm"
   ]
  },
  {
   "cell_type": "code",
   "execution_count": null,
   "metadata": {},
   "outputs": [],
   "source": [
    "# data wrangling\n",
    "import os\n",
    "import pandas as pd\n",
    "import numpy as np\n",
    "np.set_printoptions(edgeitems=10, linewidth=1000, formatter=dict(float=lambda x: \"%.3g\" % x))\n",
    "\n",
    "# preprocessing\n",
    "from tensorflow.keras.preprocessing.text import Tokenizer\n",
    "from tensorflow.keras.preprocessing.sequence import pad_sequences\n",
    "\n",
    "\n",
    "# modeling\n",
    "import tensorflow as tf\n",
    "\n",
    "## load data\n",
    "import os\n",
    "from pathlib import Path\n",
    "home = str(Path.home())\n",
    "base_dir = os.path.join(home, 'datasets/news-headlines-sarcasm')\n",
    "file_name = 'Sarcasm_Headlines_Dataset.json'\n",
    "json_file = os.path.join(base_dir, file_name)\n",
    "\n",
    "df = pd.read_json(json_file, lines=True)\n",
    "headlines = df.headline.to_list()\n",
    "true_values = df.is_sarcastic.to_list()\n",
    "\n",
    "## tokenize\n",
    "tokenizer = Tokenizer(num_words=10000, oov_token='<UNK>')\n",
    "tokenizer.fit_on_texts(headlines)\n",
    "seq = tokenizer.texts_to_sequences(headlines)\n",
    "padded_sequences = pad_sequences(seq)\n",
    "\n",
    "true_values = np.array(true_values)\n",
    "\n",
    "padded_sequences\n",
    "\n",
    "vocab_size = 10000\n",
    "embedding_dim = 16\n",
    "max_length = 40\n",
    "trunc_type = 'post'\n",
    "oov_tok = '<UNK>'\n",
    "\n",
    "model = tf.keras.Sequential([\n",
    "    tf.keras.layers.Embedding(vocab_size, embedding_dim, input_length=max_length),\n",
    "    tf.keras.layers.Flatten(),\n",
    "    tf.keras.layers.Dense(units=6, activation='relu'),\n",
    "    tf.keras.layers.Dense(units=1, activation='sigmoid')\n",
    "])\n",
    "\n",
    "model.compile(loss='binary_crossentropy', optimizer='adam', metrics=['accuracy'])\n",
    "model.summary()\n",
    "\n",
    "num_epoch = 10\n",
    "model.fit(padded_sequences,\n",
    "         true_values,\n",
    "         epochs=4\n",
    "         )"
   ]
  },
  {
   "cell_type": "markdown",
   "metadata": {},
   "source": [
    "## IMDB Reviews Classification\n",
    "https://www.tensorflow.org/tutorials/keras/text_classification"
   ]
  },
  {
   "cell_type": "code",
   "execution_count": 3,
   "metadata": {
    "colab": {},
    "colab_type": "code",
    "id": "_IoM4VFxWpMR"
   },
   "outputs": [],
   "source": [
    "import tensorflow_datasets as tfds\n",
    "imdb, info = tfds.load(\"imdb_reviews\", with_info=True, as_supervised=True, shuffle_files=True)\n",
    "\n",
    "(train_data, test_data), info = tfds.load(\n",
    "    # Use the version pre-encoded with an ~8k vocabulary.\n",
    "    'imdb_reviews/subwords8k', \n",
    "    # Return the train/test datasets as a tuple.\n",
    "    split = (tfds.Split.TRAIN, tfds.Split.TEST),\n",
    "    # Return (example, label) pairs from the dataset (instead of a dictionary).\n",
    "    as_supervised=True,\n",
    "    # Also return the `info` structure. \n",
    "    with_info=True,\n",
    "    shuffle_files=True)"
   ]
  },
  {
   "cell_type": "code",
   "execution_count": 4,
   "metadata": {},
   "outputs": [
    {
     "data": {
      "text/plain": [
       "tfds.core.DatasetInfo(\n",
       "    name='imdb_reviews',\n",
       "    version=0.1.0,\n",
       "    description='Large Movie Review Dataset.\n",
       "This is a dataset for binary sentiment classification containing substantially more data than previous benchmark datasets. We provide a set of 25,000 highly polar movie reviews for training, and 25,000 for testing. There is additional unlabeled data for use as well.',\n",
       "    urls=['http://ai.stanford.edu/~amaas/data/sentiment/'],\n",
       "    features=FeaturesDict({\n",
       "        'label': ClassLabel(shape=(), dtype=tf.int64, num_classes=2),\n",
       "        'text': Text(shape=(None,), dtype=tf.int64, encoder=<SubwordTextEncoder vocab_size=8185>),\n",
       "    }),\n",
       "    total_num_examples=100000,\n",
       "    splits={\n",
       "        'test': 25000,\n",
       "        'train': 25000,\n",
       "        'unsupervised': 50000,\n",
       "    },\n",
       "    supervised_keys=('text', 'label'),\n",
       "    citation=\"\"\"@InProceedings{maas-EtAl:2011:ACL-HLT2011,\n",
       "      author    = {Maas, Andrew L.  and  Daly, Raymond E.  and  Pham, Peter T.  and  Huang, Dan  and  Ng, Andrew Y.  and  Potts, Christopher},\n",
       "      title     = {Learning Word Vectors for Sentiment Analysis},\n",
       "      booktitle = {Proceedings of the 49th Annual Meeting of the Association for Computational Linguistics: Human Language Technologies},\n",
       "      month     = {June},\n",
       "      year      = {2011},\n",
       "      address   = {Portland, Oregon, USA},\n",
       "      publisher = {Association for Computational Linguistics},\n",
       "      pages     = {142--150},\n",
       "      url       = {http://www.aclweb.org/anthology/P11-1015}\n",
       "    }\"\"\",\n",
       "    redistribution_info=,\n",
       ")"
      ]
     },
     "execution_count": 4,
     "metadata": {},
     "output_type": "execute_result"
    }
   ],
   "source": [
    "info"
   ]
  },
  {
   "cell_type": "code",
   "execution_count": 5,
   "metadata": {
    "colab": {},
    "colab_type": "code",
    "id": "wHQ2Ko0zl7M4"
   },
   "outputs": [],
   "source": [
    "training_sentences = []\n",
    "training_labels = []\n",
    "testing_sentences = []\n",
    "testing_labels = []\n",
    "\n",
    "for s,l in train_data:\n",
    "    training_sentences.append(str(s.numpy()))\n",
    "    training_labels.append(l.numpy())\n",
    "\n",
    "for s,l in test_data:\n",
    "    testing_sentences.append(str(s.numpy()))\n",
    "    testing_labels.append(l.numpy())\n",
    "\n",
    "training_labels_final = np.array(training_labels)\n",
    "testing_labels_final = np.array(testing_labels)\n"
   ]
  },
  {
   "cell_type": "code",
   "execution_count": 6,
   "metadata": {},
   "outputs": [
    {
     "data": {
      "text/plain": [
       "'[  12   31   84  480   71    1  108 7748    9 1130  776  424   14   18\\n    4  650   65    2    5 2411    4  471    6    1 3330   13 1200   52\\n  101 3007    3   19  170   29  485 2554    2 2647    9    4 1000 3043\\n   23 7995 2962  136    2 7455   49    9 1804 1182 2860    5    4  610\\n   40 3208    2 5615 5608  131    9    4 2865 2145  413 7974  267 1943\\n 1671 2898 8045  230   51   29 2055    2 5958  449    2    5 2292  475\\n  230   33    1 6810 7961 7182    8   53   29   11 5083 4426   24   10\\n   16   10   17 5083 4426 7961  815   20   41 4858  612    6 5115   66\\n    2    5   12  674   15   23  402 5785    2   26   14  815   52    4\\n 2654 5992   21    5 8002 4115   47   66    2    5   18   48   82 1767\\n 2309    1  175 4974    6   71    1 7697  279   31  524  463    3 4108\\n 1540    2 1551    2   26  446  376 2723 1595   82 1303   11    1  919\\n    6  756 1161   47    5 7995 2962   25  242  101   12  129   60    1\\n   66    3  373    6   82  208 7974  101 4271 8044 7975]'"
      ]
     },
     "execution_count": 6,
     "metadata": {},
     "output_type": "execute_result"
    }
   ],
   "source": [
    "training_sentences[0]"
   ]
  },
  {
   "cell_type": "code",
   "execution_count": 7,
   "metadata": {},
   "outputs": [
    {
     "data": {
      "text/plain": [
       "1"
      ]
     },
     "execution_count": 7,
     "metadata": {},
     "output_type": "execute_result"
    }
   ],
   "source": [
    "training_labels[0]"
   ]
  },
  {
   "cell_type": "code",
   "execution_count": 8,
   "metadata": {
    "colab": {},
    "colab_type": "code",
    "id": "7n15yyMdmoH1"
   },
   "outputs": [],
   "source": [
    "vocab_size = 10000\n",
    "embedding_dim = 16\n",
    "max_length = 120\n",
    "trunc_type='post'\n",
    "oov_tok = \"<UNK>\"\n",
    "\n",
    "from tensorflow.keras.preprocessing.text import Tokenizer\n",
    "from tensorflow.keras.preprocessing.sequence import pad_sequences\n",
    "\n",
    "tokenizer = Tokenizer(num_words = vocab_size, oov_token=oov_tok)\n",
    "tokenizer.fit_on_texts(training_sentences)\n",
    "word_index = tokenizer.word_index\n",
    "sequences = tokenizer.texts_to_sequences(training_sentences)\n",
    "padded = pad_sequences(sequences,maxlen=max_length, truncating=trunc_type)\n",
    "\n",
    "testing_sequences = tokenizer.texts_to_sequences(testing_sentences)\n",
    "testing_padded = pad_sequences(testing_sequences,maxlen=max_length)"
   ]
  },
  {
   "cell_type": "code",
   "execution_count": 9,
   "metadata": {
    "colab": {},
    "colab_type": "code",
    "id": "9axf0uIXVMhO"
   },
   "outputs": [
    {
     "name": "stdout",
     "output_type": "stream",
     "text": [
      "12 31 84 480 71 1 108 7748 9 1130 776 424 14 18 4 650 65 2 5 2411 4 471 6 1 3330 13 1200 52 101 3007 3 19 170 29 485 2554 2 2647 9 4 1000 3043 23 7995 2962 136 2 7455 49 9 1804 1182 2860 5 4 610 40 3208 2 5615 5608 131 9 4 2865 2145 413 7974 267 1943 1671 2898 8045 230 51 29 2055 2 5958 449 2 5 2292 475 230 33 1 6810 7961 7182 8 53 29 11 5083 4426 24 10 16 10 17 5083 4426 7961 815 20 41 4858 612 6 5115 66 2 5 12 674 15 23 402 5785\n",
      "[  12   31   84  480   71    1  108 7748    9 1130  776  424   14   18\n",
      "    4  650   65    2    5 2411    4  471    6    1 3330   13 1200   52\n",
      "  101 3007    3   19  170   29  485 2554    2 2647    9    4 1000 3043\n",
      "   23 7995 2962  136    2 7455   49    9 1804 1182 2860    5    4  610\n",
      "   40 3208    2 5615 5608  131    9    4 2865 2145  413 7974  267 1943\n",
      " 1671 2898 8045  230   51   29 2055    2 5958  449    2    5 2292  475\n",
      "  230   33    1 6810 7961 7182    8   53   29   11 5083 4426   24   10\n",
      "   16   10   17 5083 4426 7961  815   20   41 4858  612    6 5115   66\n",
      "    2    5   12  674   15   23  402 5785    2   26   14  815   52    4\n",
      " 2654 5992   21    5 8002 4115   47   66    2    5   18   48   82 1767\n",
      " 2309    1  175 4974    6   71    1 7697  279   31  524  463    3 4108\n",
      " 1540    2 1551    2   26  446  376 2723 1595   82 1303   11    1  919\n",
      "    6  756 1161   47    5 7995 2962   25  242  101   12  129   60    1\n",
      "   66    3  373    6   82  208 7974  101 4271 8044 7975]\n"
     ]
    }
   ],
   "source": [
    "reverse_word_index = dict([(value, key) for (key, value) in word_index.items()])\n",
    "\n",
    "def decode_review(text):\n",
    "    return ' '.join([reverse_word_index.get(i, '?') for i in text])\n",
    "\n",
    "print(decode_review(padded[0]))\n",
    "print(training_sentences[0])"
   ]
  },
  {
   "cell_type": "markdown",
   "metadata": {},
   "source": [
    "## GRU"
   ]
  },
  {
   "cell_type": "code",
   "execution_count": 36,
   "metadata": {
    "colab": {},
    "colab_type": "code",
    "id": "5NEpdhb8AxID"
   },
   "outputs": [
    {
     "name": "stdout",
     "output_type": "stream",
     "text": [
      "Model: \"sequential\"\n",
      "_________________________________________________________________\n",
      "Layer (type)                 Output Shape              Param #   \n",
      "=================================================================\n",
      "embedding (Embedding)        (None, 120, 16)           160000    \n",
      "_________________________________________________________________\n",
      "bidirectional (Bidirectional (None, 64)                9600      \n",
      "_________________________________________________________________\n",
      "dense (Dense)                (None, 6)                 390       \n",
      "_________________________________________________________________\n",
      "dense_1 (Dense)              (None, 1)                 7         \n",
      "=================================================================\n",
      "Total params: 169,997\n",
      "Trainable params: 169,997\n",
      "Non-trainable params: 0\n",
      "_________________________________________________________________\n"
     ]
    }
   ],
   "source": [
    "model = tf.keras.Sequential([\n",
    "    tf.keras.layers.Embedding(vocab_size, embedding_dim, input_length=max_length),\n",
    "    tf.keras.layers.Bidirectional(tf.keras.layers.GRU(32)),\n",
    "    tf.keras.layers.Dense(6, activation='relu'),\n",
    "    tf.keras.layers.Dense(1, activation='sigmoid')\n",
    "])\n",
    "model.compile(loss='binary_crossentropy', optimizer='adam', metrics=['accuracy'])\n",
    "model.summary()"
   ]
  },
  {
   "cell_type": "code",
   "execution_count": 14,
   "metadata": {
    "colab": {},
    "colab_type": "code",
    "id": "V5LLrXC-uNX6"
   },
   "outputs": [
    {
     "name": "stdout",
     "output_type": "stream",
     "text": [
      "Train on 25000 samples, validate on 25000 samples\n",
      "Epoch 1/10\n",
      "25000/25000 [==============================] - 26s 1ms/sample - loss: 0.5119 - accuracy: 0.7170 - val_loss: 0.3597 - val_accuracy: 0.8431\n",
      "Epoch 2/10\n",
      "25000/25000 [==============================] - 23s 930us/sample - loss: 0.3028 - accuracy: 0.8793 - val_loss: 0.3762 - val_accuracy: 0.8474\n",
      "Epoch 3/10\n",
      "25000/25000 [==============================] - 22s 888us/sample - loss: 0.2396 - accuracy: 0.9082 - val_loss: 0.3666 - val_accuracy: 0.8418\n",
      "Epoch 4/10\n",
      "25000/25000 [==============================] - 24s 943us/sample - loss: 0.1812 - accuracy: 0.9333 - val_loss: 0.4108 - val_accuracy: 0.8353\n",
      "Epoch 5/10\n",
      "25000/25000 [==============================] - 24s 974us/sample - loss: 0.1295 - accuracy: 0.9551 - val_loss: 0.4552 - val_accuracy: 0.8260\n",
      "Epoch 6/10\n",
      "25000/25000 [==============================] - 21s 829us/sample - loss: 0.0915 - accuracy: 0.9692 - val_loss: 0.5753 - val_accuracy: 0.8222\n",
      "Epoch 7/10\n",
      "25000/25000 [==============================] - 21s 831us/sample - loss: 0.0645 - accuracy: 0.9780 - val_loss: 0.5858 - val_accuracy: 0.8106\n",
      "Epoch 8/10\n",
      "25000/25000 [==============================] - 22s 878us/sample - loss: 0.0448 - accuracy: 0.9860 - val_loss: 0.7673 - val_accuracy: 0.8201\n",
      "Epoch 9/10\n",
      "25000/25000 [==============================] - 20s 801us/sample - loss: 0.0332 - accuracy: 0.9891 - val_loss: 0.8175 - val_accuracy: 0.8166\n",
      "Epoch 10/10\n",
      "25000/25000 [==============================] - 20s 805us/sample - loss: 0.0225 - accuracy: 0.9920 - val_loss: 0.9412 - val_accuracy: 0.8214\n"
     ]
    }
   ],
   "source": [
    "num_epochs = 10\n",
    "history = model.fit(\n",
    "    padded,\n",
    "    training_labels_final,\n",
    "    epochs=num_epochs,\n",
    "    validation_data=(testing_padded, testing_labels_final)\n",
    ")"
   ]
  },
  {
   "cell_type": "code",
   "execution_count": 15,
   "metadata": {
    "colab": {},
    "colab_type": "code",
    "id": "nHGYuU4jPYaj"
   },
   "outputs": [
    {
     "data": {
      "image/png": "[encoded data removed]",
      "text/plain": [
       "<Figure size 432x288 with 1 Axes>"
      ]
     },
     "metadata": {
      "needs_background": "light"
     },
     "output_type": "display_data"
    },
    {
     "data": {
      "image/png": "[encoded data removed]",
      "text/plain": [
       "<Figure size 432x288 with 1 Axes>"
      ]
     },
     "metadata": {
      "needs_background": "light"
     },
     "output_type": "display_data"
    }
   ],
   "source": [
    "import matplotlib.pyplot as plt\n",
    "\n",
    "def plot_graphs(history, string):\n",
    "    plt.plot(history.history[string])\n",
    "    plt.plot(history.history['val_'+string])\n",
    "    plt.xlabel(\"Epochs\")\n",
    "    plt.ylabel(string)\n",
    "    plt.legend([string, 'val_'+string])\n",
    "    plt.show()\n",
    "\n",
    "plot_graphs(history, 'accuracy')\n",
    "plot_graphs(history, 'loss')"
   ]
  },
  {
   "cell_type": "markdown",
   "metadata": {},
   "source": [
    "# LSTM and Conv1D"
   ]
  },
  {
   "cell_type": "code",
   "execution_count": null,
   "metadata": {
    "colab": {},
    "colab_type": "code",
    "id": "wSualgGPPK0S"
   },
   "outputs": [],
   "source": [
    "# LSTM\n",
    "model = tf.keras.Sequential([\n",
    "    tf.keras.layers.Embedding(vocab_size, embedding_dim, input_length=max_length),\n",
    "    tf.keras.layers.Bidirectional(tf.keras.layers.LSTM(32)),\n",
    "    tf.keras.layers.Dense(6, activation='relu'),\n",
    "    tf.keras.layers.Dense(1, activation='sigmoid')\n",
    "])\n",
    "model.compile(loss='binary_crossentropy',optimizer='adam',metrics=['accuracy'])\n",
    "model.summary()\n"
   ]
  },
  {
   "cell_type": "code",
   "execution_count": null,
   "metadata": {
    "colab": {},
    "colab_type": "code",
    "id": "K_Jc7cY3Qxke"
   },
   "outputs": [],
   "source": [
    "# Conv1D\n",
    "model = tf.keras.Sequential([\n",
    "    tf.keras.layers.Embedding(vocab_size, embedding_dim, input_length=max_length),\n",
    "    tf.keras.layers.Conv1D(128, 5, activation='relu'),\n",
    "    tf.keras.layers.GlobalAveragePooling1D(),\n",
    "    tf.keras.layers.Dense(6, activation='relu'),\n",
    "    tf.keras.layers.Dense(1, activation='sigmoid')\n",
    "])\n",
    "model.compile(loss='binary_crossentropy',optimizer='adam',metrics=['accuracy'])\n",
    "model.summary()"
   ]
  }
 ],
 "metadata": {
  "accelerator": "GPU",
  "colab": {
   "collapsed_sections": [],
   "name": "Course 3 - Week 3 - Lesson 2d.ipynb",
   "provenance": [],
   "toc_visible": true
  },
  "kernelspec": {
   "display_name": "Python 3",
   "language": "python",
   "name": "python3"
  },
  "language_info": {
   "codemirror_mode": {
    "name": "ipython",
    "version": 3
   },
   "file_extension": ".py",
   "mimetype": "text/x-python",
   "name": "python",
   "nbconvert_exporter": "python",
   "pygments_lexer": "ipython3",
   "version": "3.7.7"
  }
 },
 "nbformat": 4,
 "nbformat_minor": 4
}

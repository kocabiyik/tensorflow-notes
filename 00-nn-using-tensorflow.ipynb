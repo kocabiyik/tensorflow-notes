{
  "nbformat": 4,
  "nbformat_minor": 0,
  "metadata": {
    "kernelspec": {
      "display_name": "Python 3",
      "language": "python",
      "name": "python3"
    },
    "language_info": {
      "codemirror_mode": {
        "name": "ipython",
        "version": 3
      },
      "file_extension": ".py",
      "mimetype": "text/x-python",
      "name": "python",
      "nbconvert_exporter": "python",
      "pygments_lexer": "ipython3",
      "version": "3.6.10"
    },
    "colab": {
      "name": "00-nn-using-tensorflow.ipynb",
      "provenance": [],
      "toc_visible": true
    }
  },
  "cells": [
    {
      "cell_type": "markdown",
      "metadata": {
        "id": "FvkottZ6ye6c",
        "colab_type": "text"
      },
      "source": [
        "# Using Tensorflow"
      ]
    },
    {
      "cell_type": "markdown",
      "metadata": {
        "id": "Ve3HsT9Oye6d",
        "colab_type": "text"
      },
      "source": [
        "## 1. Approximate a Simple Function"
      ]
    },
    {
      "cell_type": "code",
      "metadata": {
        "id": "KXPlmJ-Bye6e",
        "colab_type": "code",
        "colab": {}
      },
      "source": [
        "import tensorflow as tf\n",
        "import numpy as np\n",
        "import pandas as pd"
      ],
      "execution_count": 0,
      "outputs": []
    },
    {
      "cell_type": "code",
      "metadata": {
        "id": "K11QiF7Wye6i",
        "colab_type": "code",
        "colab": {}
      },
      "source": [
        "x = np.array([1,2,-1,3,4, 0])\n",
        "y = np.array([1,3,-3,5,7,-1])"
      ],
      "execution_count": 0,
      "outputs": []
    },
    {
      "cell_type": "markdown",
      "metadata": {
        "id": "TO8qwHkxye6l",
        "colab_type": "text"
      },
      "source": [
        "My brain says that $y = 2x-1$  "
      ]
    },
    {
      "cell_type": "code",
      "metadata": {
        "id": "NWF6zeyCye6m",
        "colab_type": "code",
        "colab": {}
      },
      "source": [
        "model = tf.keras.models.Sequential([\n",
        "    tf.keras.layers.Dense(1, input_shape = [1])\n",
        "])"
      ],
      "execution_count": 0,
      "outputs": []
    },
    {
      "cell_type": "markdown",
      "metadata": {
        "id": "t9ONHqqeye6o",
        "colab_type": "text"
      },
      "source": [
        "A recap before compile:  \n",
        "\n",
        "- Loss function measures how good our how bad a prediction is.\n",
        "- Optimizer is making another guess, it tries minimize the error.  "
      ]
    },
    {
      "cell_type": "code",
      "metadata": {
        "id": "ecTOJI__ye6o",
        "colab_type": "code",
        "colab": {}
      },
      "source": [
        "model.compile(optimizer = 'sgd',\n",
        "              loss = 'mse',\n",
        "              metrics = ['accuracy'])"
      ],
      "execution_count": 0,
      "outputs": []
    },
    {
      "cell_type": "markdown",
      "metadata": {
        "id": "va8-gt_pye6r",
        "colab_type": "text"
      },
      "source": [
        "A recap before training the model:\n",
        "    \n",
        "What is an epoch?  \n",
        "\n",
        "[An answer from StackOverflow](https://stackoverflow.com/a/40069646/5070121).\n",
        "> An epoch, in Machine Learning, is the entire processing by the learning algorithm of the entire train-set."
      ]
    },
    {
      "cell_type": "code",
      "metadata": {
        "id": "05O66gJTye6r",
        "colab_type": "code",
        "colab": {
          "base_uri": "https://localhost:8080/",
          "height": 34
        },
        "outputId": "68296e0c-2b84-4b0e-c9fc-e76435c014bc"
      },
      "source": [
        "model.fit(\n",
        "    x, y,\n",
        "    epochs = 100,\n",
        "    verbose = 0\n",
        ")"
      ],
      "execution_count": 22,
      "outputs": [
        {
          "output_type": "execute_result",
          "data": {
            "text/plain": [
              "<tensorflow.python.keras.callbacks.History at 0x7f8dfb532e10>"
            ]
          },
          "metadata": {
            "tags": []
          },
          "execution_count": 22
        }
      ]
    },
    {
      "cell_type": "markdown",
      "metadata": {
        "id": "pPBg8DrEye6u",
        "colab_type": "text"
      },
      "source": [
        "> What is y when x = 10?"
      ]
    },
    {
      "cell_type": "code",
      "metadata": {
        "id": "LHm8qAvgye6v",
        "colab_type": "code",
        "colab": {
          "base_uri": "https://localhost:8080/",
          "height": 34
        },
        "outputId": "f185f887-08ee-4d83-867a-7fa0eb12ce23"
      },
      "source": [
        "model.predict([10])"
      ],
      "execution_count": 23,
      "outputs": [
        {
          "output_type": "execute_result",
          "data": {
            "text/plain": [
              "array([[18.999954]], dtype=float32)"
            ]
          },
          "metadata": {
            "tags": []
          },
          "execution_count": 23
        }
      ]
    },
    {
      "cell_type": "markdown",
      "metadata": {
        "id": "CKFaekyLye6z",
        "colab_type": "text"
      },
      "source": [
        "The prediction is close the 19."
      ]
    },
    {
      "cell_type": "markdown",
      "metadata": {
        "id": "kaolo4hKye6z",
        "colab_type": "text"
      },
      "source": [
        "## 2. Classifiying Iris Species"
      ]
    },
    {
      "cell_type": "code",
      "metadata": {
        "id": "5ZUl0iIsye60",
        "colab_type": "code",
        "colab": {
          "base_uri": "https://localhost:8080/",
          "height": 51
        },
        "outputId": "25aff40d-3e15-4675-e585-e1a95af47bc0"
      },
      "source": [
        "from sklearn import datasets\n",
        "from sklearn.model_selection import train_test_split\n",
        "\n",
        "from tensorflow.keras.utils import to_categorical\n",
        "from tensorflow.keras.layers import Dense\n",
        "from tensorflow.keras.models import Sequential\n",
        "\n",
        "iris_data = datasets.load_iris()\n",
        "\n",
        "x = iris_data['data']\n",
        "y = iris_data['target']\n",
        "y = to_categorical(y, 3)\n",
        "\n",
        "x_train, x_test, y_train, y_test = train_test_split(x, y, test_size=0.10)\n",
        "\n",
        "model = Sequential([\n",
        "    Dense(3, activation = 'softmax')\n",
        "])\n",
        "\n",
        "# compile\n",
        "model.compile(loss = 'categorical_crossentropy', optimizer = 'adam', metrics = ['accuracy'])\n",
        "\n",
        "# train\n",
        "model.fit(x_train,y_train, epochs = 2000, verbose=0)\n",
        "\n",
        "# evaluate\n",
        "model.evaluate(x_test, y_test)"
      ],
      "execution_count": 24,
      "outputs": [
        {
          "output_type": "stream",
          "text": [
            "1/1 [==============================] - 0s 1ms/step - loss: 0.1339 - accuracy: 0.9333\n"
          ],
          "name": "stdout"
        },
        {
          "output_type": "execute_result",
          "data": {
            "text/plain": [
              "[0.13386990129947662, 0.9333333373069763]"
            ]
          },
          "metadata": {
            "tags": []
          },
          "execution_count": 24
        }
      ]
    },
    {
      "cell_type": "markdown",
      "metadata": {
        "id": "gs4opVgSye63",
        "colab_type": "text"
      },
      "source": [
        "## 3. Boston Housing Price Prediction\n",
        "Predicting a numeric value"
      ]
    },
    {
      "cell_type": "code",
      "metadata": {
        "id": "aVYItuiMye63",
        "colab_type": "code",
        "colab": {}
      },
      "source": [
        "boston = datasets.load_boston()"
      ],
      "execution_count": 0,
      "outputs": []
    },
    {
      "cell_type": "code",
      "metadata": {
        "id": "3VZp9aeLye66",
        "colab_type": "code",
        "colab": {
          "base_uri": "https://localhost:8080/",
          "height": 884
        },
        "outputId": "9bcb10db-88f2-4149-bd21-5a301234a4ed"
      },
      "source": [
        "print(boston['DESCR'])"
      ],
      "execution_count": 26,
      "outputs": [
        {
          "output_type": "stream",
          "text": [
            ".. _boston_dataset:\n",
            "\n",
            "Boston house prices dataset\n",
            "---------------------------\n",
            "\n",
            "**Data Set Characteristics:**  \n",
            "\n",
            "    :Number of Instances: 506 \n",
            "\n",
            "    :Number of Attributes: 13 numeric/categorical predictive. Median Value (attribute 14) is usually the target.\n",
            "\n",
            "    :Attribute Information (in order):\n",
            "        - CRIM     per capita crime rate by town\n",
            "        - ZN       proportion of residential land zoned for lots over 25,000 sq.ft.\n",
            "        - INDUS    proportion of non-retail business acres per town\n",
            "        - CHAS     Charles River dummy variable (= 1 if tract bounds river; 0 otherwise)\n",
            "        - NOX      nitric oxides concentration (parts per 10 million)\n",
            "        - RM       average number of rooms per dwelling\n",
            "        - AGE      proportion of owner-occupied units built prior to 1940\n",
            "        - DIS      weighted distances to five Boston employment centres\n",
            "        - RAD      index of accessibility to radial highways\n",
            "        - TAX      full-value property-tax rate per $10,000\n",
            "        - PTRATIO  pupil-teacher ratio by town\n",
            "        - B        1000(Bk - 0.63)^2 where Bk is the proportion of blacks by town\n",
            "        - LSTAT    % lower status of the population\n",
            "        - MEDV     Median value of owner-occupied homes in $1000's\n",
            "\n",
            "    :Missing Attribute Values: None\n",
            "\n",
            "    :Creator: Harrison, D. and Rubinfeld, D.L.\n",
            "\n",
            "This is a copy of UCI ML housing dataset.\n",
            "https://archive.ics.uci.edu/ml/machine-learning-databases/housing/\n",
            "\n",
            "\n",
            "This dataset was taken from the StatLib library which is maintained at Carnegie Mellon University.\n",
            "\n",
            "The Boston house-price data of Harrison, D. and Rubinfeld, D.L. 'Hedonic\n",
            "prices and the demand for clean air', J. Environ. Economics & Management,\n",
            "vol.5, 81-102, 1978.   Used in Belsley, Kuh & Welsch, 'Regression diagnostics\n",
            "...', Wiley, 1980.   N.B. Various transformations are used in the table on\n",
            "pages 244-261 of the latter.\n",
            "\n",
            "The Boston house-price data has been used in many machine learning papers that address regression\n",
            "problems.   \n",
            "     \n",
            ".. topic:: References\n",
            "\n",
            "   - Belsley, Kuh & Welsch, 'Regression diagnostics: Identifying Influential Data and Sources of Collinearity', Wiley, 1980. 244-261.\n",
            "   - Quinlan,R. (1993). Combining Instance-Based and Model-Based Learning. In Proceedings on the Tenth International Conference of Machine Learning, 236-243, University of Massachusetts, Amherst. Morgan Kaufmann.\n",
            "\n"
          ],
          "name": "stdout"
        }
      ]
    },
    {
      "cell_type": "code",
      "metadata": {
        "id": "jbCQjinHye69",
        "colab_type": "code",
        "colab": {}
      },
      "source": [
        "x = boston['data']"
      ],
      "execution_count": 0,
      "outputs": []
    },
    {
      "cell_type": "code",
      "metadata": {
        "id": "gfDURVdiye7A",
        "colab_type": "code",
        "colab": {}
      },
      "source": [
        "y = boston['target']"
      ],
      "execution_count": 0,
      "outputs": []
    },
    {
      "cell_type": "code",
      "metadata": {
        "id": "i_M5QmOoye7C",
        "colab_type": "code",
        "colab": {}
      },
      "source": [
        "x_train, x_test, y_train, y_test = train_test_split(x, y, test_size=0.10)"
      ],
      "execution_count": 0,
      "outputs": []
    },
    {
      "cell_type": "code",
      "metadata": {
        "id": "l4CU2P_Gye7E",
        "colab_type": "code",
        "colab": {}
      },
      "source": [
        "model = Sequential([\n",
        "    Dense(13, activation = 'linear', input_shape=[13]),\n",
        "    Dense(1, activation='linear')\n",
        "])"
      ],
      "execution_count": 0,
      "outputs": []
    },
    {
      "cell_type": "code",
      "metadata": {
        "id": "JeZedgq6ye7G",
        "colab_type": "code",
        "colab": {}
      },
      "source": [
        "model.compile(loss='mean_squared_error', optimizer='adam', metrics = ['mae'])"
      ],
      "execution_count": 0,
      "outputs": []
    },
    {
      "cell_type": "code",
      "metadata": {
        "id": "V7mondgNye7K",
        "colab_type": "code",
        "colab": {
          "base_uri": "https://localhost:8080/",
          "height": 34
        },
        "outputId": "e299a25d-7095-452f-92dd-d807d82d3462"
      },
      "source": [
        "model.fit(x_train, y_train, epochs=100, verbose = 0)"
      ],
      "execution_count": 32,
      "outputs": [
        {
          "output_type": "execute_result",
          "data": {
            "text/plain": [
              "<tensorflow.python.keras.callbacks.History at 0x7f8df93a7160>"
            ]
          },
          "metadata": {
            "tags": []
          },
          "execution_count": 32
        }
      ]
    },
    {
      "cell_type": "code",
      "metadata": {
        "id": "NlK0MYP6ye7N",
        "colab_type": "code",
        "colab": {
          "base_uri": "https://localhost:8080/",
          "height": 51
        },
        "outputId": "358fe2a6-1685-4db7-f0c1-36c352f70e3b"
      },
      "source": [
        "model.evaluate(x_test,y_test)"
      ],
      "execution_count": 33,
      "outputs": [
        {
          "output_type": "stream",
          "text": [
            "2/2 [==============================] - 0s 5ms/step - loss: 60.3732 - mae: 6.4464\n"
          ],
          "name": "stdout"
        },
        {
          "output_type": "execute_result",
          "data": {
            "text/plain": [
              "[60.373233795166016, 6.446362018585205]"
            ]
          },
          "metadata": {
            "tags": []
          },
          "execution_count": 33
        }
      ]
    },
    {
      "cell_type": "code",
      "metadata": {
        "id": "uq46eYupye7R",
        "colab_type": "code",
        "colab": {}
      },
      "source": [
        "predictions = model.predict(x_test)"
      ],
      "execution_count": 0,
      "outputs": []
    },
    {
      "cell_type": "code",
      "metadata": {
        "id": "ivbMCJc6ye7T",
        "colab_type": "code",
        "colab": {}
      },
      "source": [
        "df = pd.DataFrame(y_test)\n",
        "df = df.rename(columns = {0:'true_values'})\n",
        "df['predictions'] = predictions"
      ],
      "execution_count": 0,
      "outputs": []
    },
    {
      "cell_type": "code",
      "metadata": {
        "id": "HZiUWCM9ye7V",
        "colab_type": "code",
        "colab": {
          "base_uri": "https://localhost:8080/",
          "height": 1000
        },
        "outputId": "f412d108-c3ed-41d1-8423-d86e05f26789"
      },
      "source": [
        "df"
      ],
      "execution_count": 36,
      "outputs": [
        {
          "output_type": "execute_result",
          "data": {
            "text/html": [
              "<div>\n",
              "<style scoped>\n",
              "    .dataframe tbody tr th:only-of-type {\n",
              "        vertical-align: middle;\n",
              "    }\n",
              "\n",
              "    .dataframe tbody tr th {\n",
              "        vertical-align: top;\n",
              "    }\n",
              "\n",
              "    .dataframe thead th {\n",
              "        text-align: right;\n",
              "    }\n",
              "</style>\n",
              "<table border=\"1\" class=\"dataframe\">\n",
              "  <thead>\n",
              "    <tr style=\"text-align: right;\">\n",
              "      <th></th>\n",
              "      <th>true_values</th>\n",
              "      <th>predictions</th>\n",
              "    </tr>\n",
              "  </thead>\n",
              "  <tbody>\n",
              "    <tr>\n",
              "      <th>0</th>\n",
              "      <td>22.0</td>\n",
              "      <td>24.637833</td>\n",
              "    </tr>\n",
              "    <tr>\n",
              "      <th>1</th>\n",
              "      <td>17.1</td>\n",
              "      <td>24.513676</td>\n",
              "    </tr>\n",
              "    <tr>\n",
              "      <th>2</th>\n",
              "      <td>21.0</td>\n",
              "      <td>22.208557</td>\n",
              "    </tr>\n",
              "    <tr>\n",
              "      <th>3</th>\n",
              "      <td>19.3</td>\n",
              "      <td>19.915596</td>\n",
              "    </tr>\n",
              "    <tr>\n",
              "      <th>4</th>\n",
              "      <td>22.4</td>\n",
              "      <td>20.583332</td>\n",
              "    </tr>\n",
              "    <tr>\n",
              "      <th>5</th>\n",
              "      <td>34.9</td>\n",
              "      <td>30.657616</td>\n",
              "    </tr>\n",
              "    <tr>\n",
              "      <th>6</th>\n",
              "      <td>12.1</td>\n",
              "      <td>21.482037</td>\n",
              "    </tr>\n",
              "    <tr>\n",
              "      <th>7</th>\n",
              "      <td>22.9</td>\n",
              "      <td>34.217644</td>\n",
              "    </tr>\n",
              "    <tr>\n",
              "      <th>8</th>\n",
              "      <td>14.4</td>\n",
              "      <td>11.404844</td>\n",
              "    </tr>\n",
              "    <tr>\n",
              "      <th>9</th>\n",
              "      <td>16.8</td>\n",
              "      <td>25.559788</td>\n",
              "    </tr>\n",
              "    <tr>\n",
              "      <th>10</th>\n",
              "      <td>23.9</td>\n",
              "      <td>33.583687</td>\n",
              "    </tr>\n",
              "    <tr>\n",
              "      <th>11</th>\n",
              "      <td>7.2</td>\n",
              "      <td>13.872490</td>\n",
              "    </tr>\n",
              "    <tr>\n",
              "      <th>12</th>\n",
              "      <td>30.7</td>\n",
              "      <td>25.494789</td>\n",
              "    </tr>\n",
              "    <tr>\n",
              "      <th>13</th>\n",
              "      <td>17.2</td>\n",
              "      <td>25.705349</td>\n",
              "    </tr>\n",
              "    <tr>\n",
              "      <th>14</th>\n",
              "      <td>50.0</td>\n",
              "      <td>27.183771</td>\n",
              "    </tr>\n",
              "    <tr>\n",
              "      <th>15</th>\n",
              "      <td>20.1</td>\n",
              "      <td>26.491655</td>\n",
              "    </tr>\n",
              "    <tr>\n",
              "      <th>16</th>\n",
              "      <td>13.3</td>\n",
              "      <td>21.543274</td>\n",
              "    </tr>\n",
              "    <tr>\n",
              "      <th>17</th>\n",
              "      <td>33.4</td>\n",
              "      <td>28.878542</td>\n",
              "    </tr>\n",
              "    <tr>\n",
              "      <th>18</th>\n",
              "      <td>14.0</td>\n",
              "      <td>17.600609</td>\n",
              "    </tr>\n",
              "    <tr>\n",
              "      <th>19</th>\n",
              "      <td>11.0</td>\n",
              "      <td>9.371063</td>\n",
              "    </tr>\n",
              "    <tr>\n",
              "      <th>20</th>\n",
              "      <td>16.2</td>\n",
              "      <td>25.014637</td>\n",
              "    </tr>\n",
              "    <tr>\n",
              "      <th>21</th>\n",
              "      <td>17.5</td>\n",
              "      <td>23.212030</td>\n",
              "    </tr>\n",
              "    <tr>\n",
              "      <th>22</th>\n",
              "      <td>21.1</td>\n",
              "      <td>22.202398</td>\n",
              "    </tr>\n",
              "    <tr>\n",
              "      <th>23</th>\n",
              "      <td>36.1</td>\n",
              "      <td>25.956760</td>\n",
              "    </tr>\n",
              "    <tr>\n",
              "      <th>24</th>\n",
              "      <td>18.2</td>\n",
              "      <td>31.386747</td>\n",
              "    </tr>\n",
              "    <tr>\n",
              "      <th>25</th>\n",
              "      <td>20.5</td>\n",
              "      <td>30.389957</td>\n",
              "    </tr>\n",
              "    <tr>\n",
              "      <th>26</th>\n",
              "      <td>21.2</td>\n",
              "      <td>23.369938</td>\n",
              "    </tr>\n",
              "    <tr>\n",
              "      <th>27</th>\n",
              "      <td>14.5</td>\n",
              "      <td>12.362384</td>\n",
              "    </tr>\n",
              "    <tr>\n",
              "      <th>28</th>\n",
              "      <td>8.4</td>\n",
              "      <td>6.804009</td>\n",
              "    </tr>\n",
              "    <tr>\n",
              "      <th>29</th>\n",
              "      <td>32.0</td>\n",
              "      <td>31.284737</td>\n",
              "    </tr>\n",
              "    <tr>\n",
              "      <th>30</th>\n",
              "      <td>42.8</td>\n",
              "      <td>28.123375</td>\n",
              "    </tr>\n",
              "    <tr>\n",
              "      <th>31</th>\n",
              "      <td>28.6</td>\n",
              "      <td>22.491974</td>\n",
              "    </tr>\n",
              "    <tr>\n",
              "      <th>32</th>\n",
              "      <td>20.8</td>\n",
              "      <td>27.409565</td>\n",
              "    </tr>\n",
              "    <tr>\n",
              "      <th>33</th>\n",
              "      <td>19.2</td>\n",
              "      <td>25.954506</td>\n",
              "    </tr>\n",
              "    <tr>\n",
              "      <th>34</th>\n",
              "      <td>13.6</td>\n",
              "      <td>21.439785</td>\n",
              "    </tr>\n",
              "    <tr>\n",
              "      <th>35</th>\n",
              "      <td>5.6</td>\n",
              "      <td>16.292732</td>\n",
              "    </tr>\n",
              "    <tr>\n",
              "      <th>36</th>\n",
              "      <td>7.0</td>\n",
              "      <td>-2.885544</td>\n",
              "    </tr>\n",
              "    <tr>\n",
              "      <th>37</th>\n",
              "      <td>20.6</td>\n",
              "      <td>21.649242</td>\n",
              "    </tr>\n",
              "    <tr>\n",
              "      <th>38</th>\n",
              "      <td>29.6</td>\n",
              "      <td>26.695032</td>\n",
              "    </tr>\n",
              "    <tr>\n",
              "      <th>39</th>\n",
              "      <td>13.8</td>\n",
              "      <td>21.359175</td>\n",
              "    </tr>\n",
              "    <tr>\n",
              "      <th>40</th>\n",
              "      <td>18.7</td>\n",
              "      <td>25.725880</td>\n",
              "    </tr>\n",
              "    <tr>\n",
              "      <th>41</th>\n",
              "      <td>17.1</td>\n",
              "      <td>23.947794</td>\n",
              "    </tr>\n",
              "    <tr>\n",
              "      <th>42</th>\n",
              "      <td>32.7</td>\n",
              "      <td>33.102047</td>\n",
              "    </tr>\n",
              "    <tr>\n",
              "      <th>43</th>\n",
              "      <td>33.1</td>\n",
              "      <td>26.418304</td>\n",
              "    </tr>\n",
              "    <tr>\n",
              "      <th>44</th>\n",
              "      <td>23.8</td>\n",
              "      <td>22.907040</td>\n",
              "    </tr>\n",
              "    <tr>\n",
              "      <th>45</th>\n",
              "      <td>13.6</td>\n",
              "      <td>27.334146</td>\n",
              "    </tr>\n",
              "    <tr>\n",
              "      <th>46</th>\n",
              "      <td>17.8</td>\n",
              "      <td>24.802944</td>\n",
              "    </tr>\n",
              "    <tr>\n",
              "      <th>47</th>\n",
              "      <td>20.3</td>\n",
              "      <td>25.570324</td>\n",
              "    </tr>\n",
              "    <tr>\n",
              "      <th>48</th>\n",
              "      <td>34.7</td>\n",
              "      <td>28.839140</td>\n",
              "    </tr>\n",
              "    <tr>\n",
              "      <th>49</th>\n",
              "      <td>37.3</td>\n",
              "      <td>30.318916</td>\n",
              "    </tr>\n",
              "    <tr>\n",
              "      <th>50</th>\n",
              "      <td>13.1</td>\n",
              "      <td>23.958504</td>\n",
              "    </tr>\n",
              "  </tbody>\n",
              "</table>\n",
              "</div>"
            ],
            "text/plain": [
              "    true_values  predictions\n",
              "0          22.0    24.637833\n",
              "1          17.1    24.513676\n",
              "2          21.0    22.208557\n",
              "3          19.3    19.915596\n",
              "4          22.4    20.583332\n",
              "5          34.9    30.657616\n",
              "6          12.1    21.482037\n",
              "7          22.9    34.217644\n",
              "8          14.4    11.404844\n",
              "9          16.8    25.559788\n",
              "10         23.9    33.583687\n",
              "11          7.2    13.872490\n",
              "12         30.7    25.494789\n",
              "13         17.2    25.705349\n",
              "14         50.0    27.183771\n",
              "15         20.1    26.491655\n",
              "16         13.3    21.543274\n",
              "17         33.4    28.878542\n",
              "18         14.0    17.600609\n",
              "19         11.0     9.371063\n",
              "20         16.2    25.014637\n",
              "21         17.5    23.212030\n",
              "22         21.1    22.202398\n",
              "23         36.1    25.956760\n",
              "24         18.2    31.386747\n",
              "25         20.5    30.389957\n",
              "26         21.2    23.369938\n",
              "27         14.5    12.362384\n",
              "28          8.4     6.804009\n",
              "29         32.0    31.284737\n",
              "30         42.8    28.123375\n",
              "31         28.6    22.491974\n",
              "32         20.8    27.409565\n",
              "33         19.2    25.954506\n",
              "34         13.6    21.439785\n",
              "35          5.6    16.292732\n",
              "36          7.0    -2.885544\n",
              "37         20.6    21.649242\n",
              "38         29.6    26.695032\n",
              "39         13.8    21.359175\n",
              "40         18.7    25.725880\n",
              "41         17.1    23.947794\n",
              "42         32.7    33.102047\n",
              "43         33.1    26.418304\n",
              "44         23.8    22.907040\n",
              "45         13.6    27.334146\n",
              "46         17.8    24.802944\n",
              "47         20.3    25.570324\n",
              "48         34.7    28.839140\n",
              "49         37.3    30.318916\n",
              "50         13.1    23.958504"
            ]
          },
          "metadata": {
            "tags": []
          },
          "execution_count": 36
        }
      ]
    },
    {
      "cell_type": "markdown",
      "metadata": {
        "id": "ERIukirvye7X",
        "colab_type": "text"
      },
      "source": [
        "## Exploring Modules"
      ]
    },
    {
      "cell_type": "code",
      "metadata": {
        "id": "NzWePtjxye7Y",
        "colab_type": "code",
        "colab": {}
      },
      "source": [
        "# models\n",
        "from tensorflow.keras.models import Sequential, save_model, load_model, Model\n",
        "\n",
        "# layers\n",
        "from tensorflow.keras.layers import Dense, Softmax, Conv2D, Conv1D, AvgPool2D, MaxPooling2D, Dropout, GRU, LSTM, Lambda, Embedding, UpSampling2D\n",
        "\n",
        "# activation\n",
        "from tensorflow.keras.activations import relu, softmax, linear, sigmoid, tanh, elu, softplus, selu\n",
        "\n",
        "# loss\n",
        "from tensorflow.keras.losses import BinaryCrossentropy, CategoricalCrossentropy, SparseCategoricalCrossentropy, MeanSquaredError, MeanAbsoluteError, Huber, mean_absolute_percentage_error, CosineSimilarity\n",
        "\n",
        "# optimizers\n",
        "from tensorflow.keras.optimizers import SGD, Adam, RMSprop, Adadelta, Nadam, Adagrad\n",
        "\n",
        "# metrics\n",
        "from tensorflow.keras.metrics import Accuracy, FalseNegatives, TruePositives, TrueNegatives, FalsePositives"
      ],
      "execution_count": 0,
      "outputs": []
    }
  ]
}
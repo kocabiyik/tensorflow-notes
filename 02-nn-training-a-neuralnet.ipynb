{
  "nbformat": 4,
  "nbformat_minor": 0,
  "metadata": {
    "kernelspec": {
      "display_name": "Python 3",
      "language": "python",
      "name": "python3"
    },
    "language_info": {
      "codemirror_mode": {
        "name": "ipython",
        "version": 3
      },
      "file_extension": ".py",
      "mimetype": "text/x-python",
      "name": "python",
      "nbconvert_exporter": "python",
      "pygments_lexer": "ipython3",
      "version": "3.6.10"
    },
    "colab": {
      "name": "02-nn-training-a-neuralnet.ipynb",
      "provenance": [],
      "toc_visible": true
    },
    "widgets": {
      "application/vnd.jupyter.widget-state+json": {
        "68102d1ffc1d4df18e1c15058f901c71": {
          "model_module": "@jupyter-widgets/controls",
          "model_name": "HBoxModel",
          "state": {
            "_view_name": "HBoxView",
            "_dom_classes": [],
            "_model_name": "HBoxModel",
            "_view_module": "@jupyter-widgets/controls",
            "_model_module_version": "1.5.0",
            "_view_count": null,
            "_view_module_version": "1.5.0",
            "box_style": "",
            "layout": "IPY_MODEL_006d790a81e44e358dd000e9bacde0e0",
            "_model_module": "@jupyter-widgets/controls",
            "children": [
              "IPY_MODEL_8de174462497402f957af9b5a6dc23b3",
              "IPY_MODEL_cf32955af9fd4057aabcbc473cf31541"
            ]
          }
        },
        "006d790a81e44e358dd000e9bacde0e0": {
          "model_module": "@jupyter-widgets/base",
          "model_name": "LayoutModel",
          "state": {
            "_view_name": "LayoutView",
            "grid_template_rows": null,
            "right": null,
            "justify_content": null,
            "_view_module": "@jupyter-widgets/base",
            "overflow": null,
            "_model_module_version": "1.2.0",
            "_view_count": null,
            "flex_flow": null,
            "width": null,
            "min_width": null,
            "border": null,
            "align_items": null,
            "bottom": null,
            "_model_module": "@jupyter-widgets/base",
            "top": null,
            "grid_column": null,
            "overflow_y": null,
            "overflow_x": null,
            "grid_auto_flow": null,
            "grid_area": null,
            "grid_template_columns": null,
            "flex": null,
            "_model_name": "LayoutModel",
            "justify_items": null,
            "grid_row": null,
            "max_height": null,
            "align_content": null,
            "visibility": null,
            "align_self": null,
            "height": null,
            "min_height": null,
            "padding": null,
            "grid_auto_rows": null,
            "grid_gap": null,
            "max_width": null,
            "order": null,
            "_view_module_version": "1.2.0",
            "grid_template_areas": null,
            "object_position": null,
            "object_fit": null,
            "grid_auto_columns": null,
            "margin": null,
            "display": null,
            "left": null
          }
        },
        "8de174462497402f957af9b5a6dc23b3": {
          "model_module": "@jupyter-widgets/controls",
          "model_name": "FloatProgressModel",
          "state": {
            "_view_name": "ProgressView",
            "style": "IPY_MODEL_be7fbb7a792448c5b01882ca6378b944",
            "_dom_classes": [],
            "description": "Dl Completed...: 100%",
            "_model_name": "FloatProgressModel",
            "bar_style": "success",
            "max": 4,
            "_view_module": "@jupyter-widgets/controls",
            "_model_module_version": "1.5.0",
            "value": 4,
            "_view_count": null,
            "_view_module_version": "1.5.0",
            "orientation": "horizontal",
            "min": 0,
            "description_tooltip": null,
            "_model_module": "@jupyter-widgets/controls",
            "layout": "IPY_MODEL_e45c48c7d44b449eb62a8a0089222ba2"
          }
        },
        "cf32955af9fd4057aabcbc473cf31541": {
          "model_module": "@jupyter-widgets/controls",
          "model_name": "HTMLModel",
          "state": {
            "_view_name": "HTMLView",
            "style": "IPY_MODEL_fba30ad1b44549d88d6e152654f9b8a2",
            "_dom_classes": [],
            "description": "",
            "_model_name": "HTMLModel",
            "placeholder": "​",
            "_view_module": "@jupyter-widgets/controls",
            "_model_module_version": "1.5.0",
            "value": " 4/4 [00:35&lt;00:00,  8.98s/ file]",
            "_view_count": null,
            "_view_module_version": "1.5.0",
            "description_tooltip": null,
            "_model_module": "@jupyter-widgets/controls",
            "layout": "IPY_MODEL_5b084942cecf4d4fb5d4a4fcd83946cf"
          }
        },
        "be7fbb7a792448c5b01882ca6378b944": {
          "model_module": "@jupyter-widgets/controls",
          "model_name": "ProgressStyleModel",
          "state": {
            "_view_name": "StyleView",
            "_model_name": "ProgressStyleModel",
            "description_width": "initial",
            "_view_module": "@jupyter-widgets/base",
            "_model_module_version": "1.5.0",
            "_view_count": null,
            "_view_module_version": "1.2.0",
            "bar_color": null,
            "_model_module": "@jupyter-widgets/controls"
          }
        },
        "e45c48c7d44b449eb62a8a0089222ba2": {
          "model_module": "@jupyter-widgets/base",
          "model_name": "LayoutModel",
          "state": {
            "_view_name": "LayoutView",
            "grid_template_rows": null,
            "right": null,
            "justify_content": null,
            "_view_module": "@jupyter-widgets/base",
            "overflow": null,
            "_model_module_version": "1.2.0",
            "_view_count": null,
            "flex_flow": null,
            "width": null,
            "min_width": null,
            "border": null,
            "align_items": null,
            "bottom": null,
            "_model_module": "@jupyter-widgets/base",
            "top": null,
            "grid_column": null,
            "overflow_y": null,
            "overflow_x": null,
            "grid_auto_flow": null,
            "grid_area": null,
            "grid_template_columns": null,
            "flex": null,
            "_model_name": "LayoutModel",
            "justify_items": null,
            "grid_row": null,
            "max_height": null,
            "align_content": null,
            "visibility": null,
            "align_self": null,
            "height": null,
            "min_height": null,
            "padding": null,
            "grid_auto_rows": null,
            "grid_gap": null,
            "max_width": null,
            "order": null,
            "_view_module_version": "1.2.0",
            "grid_template_areas": null,
            "object_position": null,
            "object_fit": null,
            "grid_auto_columns": null,
            "margin": null,
            "display": null,
            "left": null
          }
        },
        "fba30ad1b44549d88d6e152654f9b8a2": {
          "model_module": "@jupyter-widgets/controls",
          "model_name": "DescriptionStyleModel",
          "state": {
            "_view_name": "StyleView",
            "_model_name": "DescriptionStyleModel",
            "description_width": "",
            "_view_module": "@jupyter-widgets/base",
            "_model_module_version": "1.5.0",
            "_view_count": null,
            "_view_module_version": "1.2.0",
            "_model_module": "@jupyter-widgets/controls"
          }
        },
        "5b084942cecf4d4fb5d4a4fcd83946cf": {
          "model_module": "@jupyter-widgets/base",
          "model_name": "LayoutModel",
          "state": {
            "_view_name": "LayoutView",
            "grid_template_rows": null,
            "right": null,
            "justify_content": null,
            "_view_module": "@jupyter-widgets/base",
            "overflow": null,
            "_model_module_version": "1.2.0",
            "_view_count": null,
            "flex_flow": null,
            "width": null,
            "min_width": null,
            "border": null,
            "align_items": null,
            "bottom": null,
            "_model_module": "@jupyter-widgets/base",
            "top": null,
            "grid_column": null,
            "overflow_y": null,
            "overflow_x": null,
            "grid_auto_flow": null,
            "grid_area": null,
            "grid_template_columns": null,
            "flex": null,
            "_model_name": "LayoutModel",
            "justify_items": null,
            "grid_row": null,
            "max_height": null,
            "align_content": null,
            "visibility": null,
            "align_self": null,
            "height": null,
            "min_height": null,
            "padding": null,
            "grid_auto_rows": null,
            "grid_gap": null,
            "max_width": null,
            "order": null,
            "_view_module_version": "1.2.0",
            "grid_template_areas": null,
            "object_position": null,
            "object_fit": null,
            "grid_auto_columns": null,
            "margin": null,
            "display": null,
            "left": null
          }
        }
      }
    }
  },
  "cells": [
    {
      "cell_type": "markdown",
      "metadata": {
        "id": "zRjTujw62Osu",
        "colab_type": "text"
      },
      "source": [
        "Things to learn in this section:\n",
        "\n",
        "✔️  Use TensorFlow 2.x.  \n",
        "✔️  Build, compile and train machine learning (ML) models using TensorFlow.  \n",
        "✔️  Preprocess data to get it ready for use in a model.  \n",
        "✔️  Use models to predict results.  \n",
        "✔️  Build sequential models with multiple layers.  \n",
        "✔️  Build and train models for multi-class categorization.  \n",
        "✔️  Plot loss and accuracy of a trained model.  \n",
        "✔️  Identify strategies to prevent overfitting, including augmentation and dropou  \n",
        "✔️  Ensure that inputs to a model are in the correct shape.  \n",
        "✔️  Ensure that you can match test data to the input shape of a neural network.  \n",
        "✔️  Ensure you can match output data of a neural network to specified input shape for test data.  \n",
        "✔️  Use callbacks to trigger the end of training cycles.  \n",
        "✔️  Use datasets from tf.data.datasets.  \n",
        "✔️  Understand how to use convolutions to improve your neural network.  \n",
        "✔️  Define Convolutional neural networks with Conv2D and pooling layers.  "
      ]
    },
    {
      "cell_type": "code",
      "metadata": {
        "id": "QDf0sMwy2Osv",
        "colab_type": "code",
        "colab": {}
      },
      "source": [
        "import numpy as np\n",
        "import matplotlib.pyplot as plt\n",
        "\n",
        "import tensorflow as tf\n",
        "import tensorflow_datasets as tfds\n",
        "\n",
        "from tensorflow.keras.layers import Dense, Flatten, Conv2D, MaxPooling2D\n",
        "from tensorflow.keras.models import Sequential\n",
        "from tensorflow.keras.utils import to_categorical"
      ],
      "execution_count": 0,
      "outputs": []
    },
    {
      "cell_type": "code",
      "metadata": {
        "id": "WyBZmvFD3fyW",
        "colab_type": "code",
        "colab": {
          "base_uri": "https://localhost:8080/",
          "height": 34
        },
        "outputId": "46b8b92b-d3a5-4375-eb8e-8029bf618ae4"
      },
      "source": [
        "tf.config.list_physical_devices('GPU')"
      ],
      "execution_count": 9,
      "outputs": [
        {
          "output_type": "execute_result",
          "data": {
            "text/plain": [
              "[PhysicalDevice(name='/physical_device:GPU:0', device_type='GPU')]"
            ]
          },
          "metadata": {
            "tags": []
          },
          "execution_count": 9
        }
      ]
    },
    {
      "cell_type": "markdown",
      "metadata": {
        "id": "T-PPC5QV2Os2",
        "colab_type": "text"
      },
      "source": [
        "__Use datasets from tf.data.datasets__"
      ]
    },
    {
      "cell_type": "code",
      "metadata": {
        "id": "9Tc3eDxo2Os3",
        "colab_type": "code",
        "colab": {
          "base_uri": "https://localhost:8080/",
          "height": 202,
          "referenced_widgets": [
            "68102d1ffc1d4df18e1c15058f901c71",
            "006d790a81e44e358dd000e9bacde0e0",
            "8de174462497402f957af9b5a6dc23b3",
            "cf32955af9fd4057aabcbc473cf31541",
            "be7fbb7a792448c5b01882ca6378b944",
            "e45c48c7d44b449eb62a8a0089222ba2",
            "fba30ad1b44549d88d6e152654f9b8a2",
            "5b084942cecf4d4fb5d4a4fcd83946cf"
          ]
        },
        "outputId": "8906b3e5-ec71-4911-f1f5-035cb4ea1c73"
      },
      "source": [
        "ds, info = tfds.load('mnist', split='train', shuffle_files=True, with_info=True)"
      ],
      "execution_count": 3,
      "outputs": [
        {
          "output_type": "stream",
          "text": [
            "\u001b[1mDownloading and preparing dataset mnist/3.0.0 (download: 11.06 MiB, generated: Unknown size, total: 11.06 MiB) to /root/tensorflow_datasets/mnist/3.0.0...\u001b[0m\n"
          ],
          "name": "stdout"
        },
        {
          "output_type": "stream",
          "text": [
            "WARNING:absl:Dataset mnist is hosted on GCS. It will automatically be downloaded to your\n",
            "local data directory. If you'd instead prefer to read directly from our public\n",
            "GCS bucket (recommended if you're running on GCP), you can instead set\n",
            "data_dir=gs://tfds-data/datasets.\n",
            "\n"
          ],
          "name": "stderr"
        },
        {
          "output_type": "display_data",
          "data": {
            "application/vnd.jupyter.widget-view+json": {
              "model_id": "68102d1ffc1d4df18e1c15058f901c71",
              "version_minor": 0,
              "version_major": 2
            },
            "text/plain": [
              "HBox(children=(FloatProgress(value=0.0, description='Dl Completed...', max=4.0, style=ProgressStyle(descriptio…"
            ]
          },
          "metadata": {
            "tags": []
          }
        },
        {
          "output_type": "stream",
          "text": [
            "\n",
            "\n",
            "\u001b[1mDataset mnist downloaded and prepared to /root/tensorflow_datasets/mnist/3.0.0. Subsequent calls will reuse this data.\u001b[0m\n"
          ],
          "name": "stdout"
        }
      ]
    },
    {
      "cell_type": "code",
      "metadata": {
        "id": "iaBCsK3Y2Os7",
        "colab_type": "code",
        "colab": {
          "base_uri": "https://localhost:8080/",
          "height": 425
        },
        "outputId": "c95412f4-bd35-4231-db5b-b076a554af15"
      },
      "source": [
        "info"
      ],
      "execution_count": 4,
      "outputs": [
        {
          "output_type": "execute_result",
          "data": {
            "text/plain": [
              "tfds.core.DatasetInfo(\n",
              "    name='mnist',\n",
              "    version=3.0.0,\n",
              "    description='The MNIST database of handwritten digits.',\n",
              "    homepage='http://yann.lecun.com/exdb/mnist/',\n",
              "    features=FeaturesDict({\n",
              "        'image': Image(shape=(28, 28, 1), dtype=tf.uint8),\n",
              "        'label': ClassLabel(shape=(), dtype=tf.int64, num_classes=10),\n",
              "    }),\n",
              "    total_num_examples=70000,\n",
              "    splits={\n",
              "        'test': 10000,\n",
              "        'train': 60000,\n",
              "    },\n",
              "    supervised_keys=('image', 'label'),\n",
              "    citation=\"\"\"@article{lecun2010mnist,\n",
              "      title={MNIST handwritten digit database},\n",
              "      author={LeCun, Yann and Cortes, Corinna and Burges, CJ},\n",
              "      journal={ATT Labs [Online]. Available: http://yann. lecun. com/exdb/mnist},\n",
              "      volume={2},\n",
              "      year={2010}\n",
              "    }\"\"\",\n",
              "    redistribution_info=,\n",
              ")"
            ]
          },
          "metadata": {
            "tags": []
          },
          "execution_count": 4
        }
      ]
    },
    {
      "cell_type": "code",
      "metadata": {
        "id": "tONx_aoK2OtD",
        "colab_type": "code",
        "colab": {}
      },
      "source": [
        "images = []\n",
        "labels = []\n",
        "for example in tfds.as_numpy(ds):\n",
        "    image, label = example[\"image\"], example[\"label\"]\n",
        "    images.append(image)\n",
        "    labels.append(label)\n",
        "\n",
        "images = np.array(images)\n",
        "images = images/255\n",
        "labels = to_categorical(np.array(labels))"
      ],
      "execution_count": 0,
      "outputs": []
    },
    {
      "cell_type": "markdown",
      "metadata": {
        "id": "EVev--Fw2OtJ",
        "colab_type": "text"
      },
      "source": [
        "- __Use callbacks to trigger the end of training cycles.__  "
      ]
    },
    {
      "cell_type": "code",
      "metadata": {
        "id": "qOMfPAFl2OtJ",
        "colab_type": "code",
        "colab": {}
      },
      "source": [
        "ACCURACY_THRESHOLD = 0.99\n",
        "\n",
        "# create a callback\n",
        "class stopTraining(tf.keras.callbacks.Callback):\n",
        "    def on_epoch_end(self, epoch, logs={}):\n",
        "        if(logs.get('accuracy')>ACCURACY_THRESHOLD):\n",
        "            print(str('\\n'+str(ACCURACY_THRESHOLD)+' accuracy level reached.'))\n",
        "            self.model.stop_training=True\n",
        "\n",
        "cb_acc_level_reached = stopTraining()"
      ],
      "execution_count": 0,
      "outputs": []
    },
    {
      "cell_type": "markdown",
      "metadata": {
        "id": "oEhObRj52OtN",
        "colab_type": "text"
      },
      "source": [
        "- __Building A Sequential Model__\n",
        "- __Understand how to use convolutions to improve your neural network__  \n",
        "- __Build, compile and train machine learning (ML) models using TensorFlow__  "
      ]
    },
    {
      "cell_type": "code",
      "metadata": {
        "id": "TpakT1FW2OtO",
        "colab_type": "code",
        "colab": {
          "base_uri": "https://localhost:8080/",
          "height": 221
        },
        "outputId": "e0fc8126-149a-4e70-dcba-68e1dc78b9a8"
      },
      "source": [
        "# build\n",
        "model = Sequential([\n",
        "    \n",
        "    Conv2D(filters=16, kernel_size = (3,3), activation=tf.nn.relu, input_shape=(28, 28 ,1)),\n",
        "    MaxPooling2D(pool_size=(2,2), padding='same'),\n",
        "    \n",
        "    Flatten(input_shape=[28,28]),\n",
        "    \n",
        "    Dense(128, activation=tf.nn.relu),\n",
        "    Dense(10, activation=tf.nn.softmax)\n",
        "])\n",
        "\n",
        "# compile\n",
        "model.compile(\n",
        "    loss='categorical_crossentropy',                                # sparse_categorical_crossentropy can be used, without one-hot-encoding for y\n",
        "    optimizer=tf.optimizers.SGD(learning_rate=0.01, momentum=0.9),\n",
        "    metrics=['accuracy']\n",
        ")\n",
        "\n",
        "# train\n",
        "history = model.fit(\n",
        "    images,\n",
        "    labels,\n",
        "    epochs=10, verbose=1,\n",
        "    callbacks= [cb_acc_level_reached]\n",
        "         )"
      ],
      "execution_count": 7,
      "outputs": [
        {
          "output_type": "stream",
          "text": [
            "Epoch 1/10\n",
            "1875/1875 [==============================] - 5s 2ms/step - loss: 0.2323 - accuracy: 0.9303\n",
            "Epoch 2/10\n",
            "1875/1875 [==============================] - 5s 2ms/step - loss: 0.0819 - accuracy: 0.9755\n",
            "Epoch 3/10\n",
            "1875/1875 [==============================] - 5s 2ms/step - loss: 0.0527 - accuracy: 0.9843\n",
            "Epoch 4/10\n",
            "1875/1875 [==============================] - 4s 2ms/step - loss: 0.0391 - accuracy: 0.9880\n",
            "Epoch 5/10\n",
            "1862/1875 [============================>.] - ETA: 0s - loss: 0.0290 - accuracy: 0.9911\n",
            "0.99 accuracy level reached.\n",
            "1875/1875 [==============================] - 4s 2ms/step - loss: 0.0289 - accuracy: 0.9911\n"
          ],
          "name": "stdout"
        }
      ]
    },
    {
      "cell_type": "markdown",
      "metadata": {
        "id": "QeQnG6lY2Ot7",
        "colab_type": "text"
      },
      "source": [
        "- __Use models to predict results__  "
      ]
    },
    {
      "cell_type": "code",
      "metadata": {
        "id": "Ag8To5Oz2Ot7",
        "colab_type": "code",
        "colab": {}
      },
      "source": [
        "ds, info = tfds.load('mnist', split='test', shuffle_files=True, with_info=True)"
      ],
      "execution_count": 0,
      "outputs": []
    },
    {
      "cell_type": "code",
      "metadata": {
        "id": "Ikt6pXjO2OuH",
        "colab_type": "code",
        "colab": {}
      },
      "source": [
        "images_test = []\n",
        "labels_test = []\n",
        "for example in tfds.as_numpy(ds):\n",
        "    image, label = example[\"image\"], example[\"label\"]\n",
        "    images_test.append(image)\n",
        "    labels_test.append(label)\n",
        "\n",
        "images_test = np.array(images_test)\n",
        "images_test = images_test/255"
      ],
      "execution_count": 0,
      "outputs": []
    },
    {
      "cell_type": "code",
      "metadata": {
        "id": "HXIWSGsV2OuK",
        "colab_type": "code",
        "colab": {}
      },
      "source": [
        "predictions = model.predict(images_test)\n",
        "predictions = np.argmax(predictions, axis=1)          # one-hot-encoding to integer"
      ],
      "execution_count": 0,
      "outputs": []
    },
    {
      "cell_type": "code",
      "metadata": {
        "id": "7T48441i2OuR",
        "colab_type": "code",
        "colab": {
          "base_uri": "https://localhost:8080/",
          "height": 34
        },
        "outputId": "af18a41e-d407-4812-ea91-41c5c988fbc0"
      },
      "source": [
        "predictions"
      ],
      "execution_count": 10,
      "outputs": [
        {
          "output_type": "execute_result",
          "data": {
            "text/plain": [
              "array([2, 0, 4, ..., 8, 0, 5])"
            ]
          },
          "metadata": {
            "tags": []
          },
          "execution_count": 10
        }
      ]
    },
    {
      "cell_type": "code",
      "metadata": {
        "id": "xv4_uVi02OuV",
        "colab_type": "code",
        "colab": {
          "base_uri": "https://localhost:8080/",
          "height": 34
        },
        "outputId": "60bf99a4-789e-466d-d99e-41dc8515bafc"
      },
      "source": [
        "np.sum(np.array(labels_test) == predictions)"
      ],
      "execution_count": 11,
      "outputs": [
        {
          "output_type": "execute_result",
          "data": {
            "text/plain": [
              "9857"
            ]
          },
          "metadata": {
            "tags": []
          },
          "execution_count": 11
        }
      ]
    },
    {
      "cell_type": "markdown",
      "metadata": {
        "id": "ZxFegcs_2OuY",
        "colab_type": "text"
      },
      "source": [
        "- __Plotting Accuracy__"
      ]
    },
    {
      "cell_type": "code",
      "metadata": {
        "id": "aLgKN_kK2OuZ",
        "colab_type": "code",
        "colab": {}
      },
      "source": [
        "plt.plot(acc)"
      ],
      "execution_count": 0,
      "outputs": []
    }
  ]
}
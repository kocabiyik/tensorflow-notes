{
 "cells": [
  {
   "cell_type": "markdown",
   "metadata": {},
   "source": [
    "- Build models that identify the category of a piece of text using binary categorization\n",
    "- Use word embeddings in your TensorFlow model.\n",
    "- Use LSTMs in your model to classify text for either binary or multi-class categorization.\n",
    "- Add RNN and GRU layers to your model.\n",
    "- Use RNNS, LSTMs, GRUs and CNNs in models that work with text.\n",
    "- Train LSTMs on existing text to generate text (such as songs and poetry)"
   ]
  },
  {
   "cell_type": "markdown",
   "metadata": {},
   "source": [
    "## Dataset: News Headline with Sarcasm"
   ]
  },
  {
   "cell_type": "code",
   "execution_count": 2,
   "metadata": {},
   "outputs": [],
   "source": [
    "# data wrangling\n",
    "import os\n",
    "import pandas as pd\n",
    "\n",
    "# preprocessing\n",
    "from tensorflow.keras.preprocessing.text import Tokenizer\n",
    "from tensorflow.keras.preprocessing.sequence import pad_sequences\n",
    "\n",
    "\n",
    "# modeling\n",
    "import tensorflow as tf\n",
    "\n",
    "## load data\n",
    "base_dir = 'data/sarcasm'\n",
    "file_name = 'Sarcasm_Headlines_Dataset.json'\n",
    "json_file = os.path.join(base_dir, file_name)\n",
    "\n",
    "df = pd.read_json(json_file, lines=True)\n",
    "headlines = df.headline.to_list()\n",
    "true_values = df.is_sarcastic.to_list()\n",
    "\n",
    "## tokenize\n",
    "tokenizer = Tokenizer(num_words=10000, oov_token='<UNK>')\n",
    "tokenizer.fit_on_texts(headlines)\n",
    "seq = tokenizer.texts_to_sequences(headlines)\n",
    "padded_sequences = pad_sequences(seq)"
   ]
  },
  {
   "cell_type": "code",
   "execution_count": 3,
   "metadata": {},
   "outputs": [
    {
     "data": {
      "text/plain": [
       "array([[   0,    0,    0, ...,    6, 2577, 8434],\n",
       "       [   0,    0,    0, ...,  258,    9, 1002],\n",
       "       [   0,    0,    0, ...,   46,    2,    1],\n",
       "       ...,\n",
       "       [   0,    0,    0, ...,    1,    9,   68],\n",
       "       [   0,    0,    0, ..., 1731, 3803, 3562],\n",
       "       [   0,    0,    0, ...,    4,    1,  825]], dtype=int32)"
      ]
     },
     "execution_count": 3,
     "metadata": {},
     "output_type": "execute_result"
    }
   ],
   "source": [
    "padded_sequences"
   ]
  },
  {
   "cell_type": "code",
   "execution_count": null,
   "metadata": {},
   "outputs": [],
   "source": []
  }
 ],
 "metadata": {
  "kernelspec": {
   "display_name": "Python 3",
   "language": "python",
   "name": "python3"
  },
  "language_info": {
   "codemirror_mode": {
    "name": "ipython",
    "version": 3
   },
   "file_extension": ".py",
   "mimetype": "text/x-python",
   "name": "python",
   "nbconvert_exporter": "python",
   "pygments_lexer": "ipython3",
   "version": "3.6.10"
  }
 },
 "nbformat": 4,
 "nbformat_minor": 4
}

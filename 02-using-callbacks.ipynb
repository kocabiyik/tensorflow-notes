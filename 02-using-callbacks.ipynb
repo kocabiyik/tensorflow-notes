{
 "cells": [
  {
   "cell_type": "markdown",
   "metadata": {},
   "source": [
    "## Using Callbacks\n",
    "\n",
    "Example: Stop training when the accuracy level reaches 99 %.  "
   ]
  },
  {
   "cell_type": "code",
   "execution_count": 49,
   "metadata": {},
   "outputs": [],
   "source": [
    "import tensorflow as tf\n",
    "from tensorflow.keras.layers import Dense, Flatten\n",
    "from tensorflow.keras.models import Sequential\n",
    "from tensorflow.keras.utils import to_categorical"
   ]
  },
  {
   "cell_type": "code",
   "execution_count": 50,
   "metadata": {},
   "outputs": [],
   "source": [
    "# load and process data\n",
    "(x_train, y_train),(x_test, y_test) = tf.keras.datasets.mnist.load_data()"
   ]
  },
  {
   "cell_type": "code",
   "execution_count": 51,
   "metadata": {},
   "outputs": [],
   "source": [
    "# normalize\n",
    "x_train = x_train/255\n",
    "x_test = x_test/255"
   ]
  },
  {
   "cell_type": "code",
   "execution_count": 75,
   "metadata": {},
   "outputs": [],
   "source": [
    "# build model\n",
    "model = Sequential([\n",
    "    Flatten(input_shape=[28,28]),\n",
    "    Dense(128, activation=tf.nn.relu),\n",
    "    Dense(10, activation=tf.nn.softmax)\n",
    "])"
   ]
  },
  {
   "cell_type": "code",
   "execution_count": 76,
   "metadata": {},
   "outputs": [],
   "source": [
    "# compile\n",
    "model.compile(\n",
    "    loss='sparse_categorical_crossentropy',\n",
    "    optimizer=tf.optimizers.SGD(learning_rate=0.01, momentum=0.9),\n",
    "    metrics=['accuracy']\n",
    ")"
   ]
  },
  {
   "cell_type": "code",
   "execution_count": 79,
   "metadata": {},
   "outputs": [],
   "source": [
    "ACCURACY_THRESHOLD = 0.99\n",
    "\n",
    "# create a callback\n",
    "class stopTraining(tf.keras.callbacks.Callback):\n",
    "    def on_epoch_end(self, epoch, logs={}):\n",
    "        if(logs.get('accuracy')>ACCURACY_THRESHOLD):\n",
    "            print(str('\\n'+str(ACCURACY_THRESHOLD)+' accuracy level reached.'))\n",
    "            self.model.stop_training=True\n",
    "\n",
    "cb_acc_level_reached = stopTraining()"
   ]
  },
  {
   "cell_type": "code",
   "execution_count": 80,
   "metadata": {},
   "outputs": [
    {
     "name": "stdout",
     "output_type": "stream",
     "text": [
      "Train on 60000 samples\n",
      "Epoch 1/10\n",
      "60000/60000 [==============================] - 6s 94us/sample - loss: 0.1472 - accuracy: 0.9576\n",
      "Epoch 2/10\n",
      "60000/60000 [==============================] - 6s 101us/sample - loss: 0.1047 - accuracy: 0.9699\n",
      "Epoch 3/10\n",
      "60000/60000 [==============================] - 6s 98us/sample - loss: 0.0817 - accuracy: 0.9764\n",
      "Epoch 4/10\n",
      "60000/60000 [==============================] - 6s 97us/sample - loss: 0.0674 - accuracy: 0.9804\n",
      "Epoch 5/10\n",
      "60000/60000 [==============================] - 6s 101us/sample - loss: 0.0563 - accuracy: 0.9834\n",
      "Epoch 6/10\n",
      "60000/60000 [==============================] - 6s 99us/sample - loss: 0.0487 - accuracy: 0.9859\n",
      "Epoch 7/10\n",
      "60000/60000 [==============================] - 6s 103us/sample - loss: 0.0415 - accuracy: 0.9882\n",
      "Epoch 8/10\n",
      "60000/60000 [==============================] - 6s 103us/sample - loss: 0.0360 - accuracy: 0.9898\n",
      "Epoch 9/10\n",
      "59808/60000 [============================>.] - ETA: 0s - loss: 0.0316 - accuracy: 0.9913\n",
      "0.99 accuracy level reached.\n",
      "60000/60000 [==============================] - 6s 103us/sample - loss: 0.0316 - accuracy: 0.9913\n"
     ]
    },
    {
     "data": {
      "text/plain": [
       "<tensorflow.python.keras.callbacks.History at 0x64ebfd048>"
      ]
     },
     "execution_count": 80,
     "metadata": {},
     "output_type": "execute_result"
    }
   ],
   "source": [
    "# train\n",
    "model.fit(x_train, y_train, epochs=10, verbose=1, callbacks= [cb_acc_level_reached])"
   ]
  }
 ],
 "metadata": {
  "kernelspec": {
   "display_name": "Python 3",
   "language": "python",
   "name": "python3"
  },
  "language_info": {
   "codemirror_mode": {
    "name": "ipython",
    "version": 3
   },
   "file_extension": ".py",
   "mimetype": "text/x-python",
   "name": "python",
   "nbconvert_exporter": "python",
   "pygments_lexer": "ipython3",
   "version": "3.6.10"
  }
 },
 "nbformat": 4,
 "nbformat_minor": 4
}

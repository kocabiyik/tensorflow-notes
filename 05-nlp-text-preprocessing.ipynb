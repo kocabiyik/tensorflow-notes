{
 "cells": [
  {
   "cell_type": "markdown",
   "metadata": {},
   "source": [
    "Things to learn in this section\n",
    "\n",
    "- Prepare text to use in TensorFlow models. ✔️  "
   ]
  },
  {
   "cell_type": "code",
   "execution_count": 28,
   "metadata": {},
   "outputs": [],
   "source": [
    "import numpy as np\n",
    "np.set_printoptions(edgeitems=25, linewidth=100000, formatter=dict(float=lambda x: \"%.3g\" % x))\n",
    "\n",
    "import tensorflow as tf\n",
    "from tensorflow.keras.preprocessing.text import Tokenizer\n",
    "from tensorflow.keras.preprocessing.sequence import pad_sequences"
   ]
  },
  {
   "cell_type": "markdown",
   "metadata": {},
   "source": [
    "## Tokenizer"
   ]
  },
  {
   "cell_type": "code",
   "execution_count": 15,
   "metadata": {},
   "outputs": [],
   "source": [
    "sentences = [\n",
    "    # Orwell’s Six Rules for Writing\n",
    "    'Never use a metaphor, simile, or other figure of speech which you are used to seeing in print.',\n",
    "    'Never use a long word where a short one will do.',\n",
    "    'If it is possible to cut a word out, always cut it out.',\n",
    "    'Never use the passive where you can use the active.',\n",
    "    'Never use a foreign phrase, a scientific word, or a jargon word if you can think of an everyday English equivalent.',\n",
    "    'Break any of these rules sooner than say anything outright barbarous.',\n",
    "]"
   ]
  },
  {
   "cell_type": "code",
   "execution_count": 16,
   "metadata": {},
   "outputs": [],
   "source": [
    "tokenizer = Tokenizer(num_words=100, oov_token='<UNK>')"
   ]
  },
  {
   "cell_type": "code",
   "execution_count": 17,
   "metadata": {},
   "outputs": [],
   "source": [
    "tokenizer.fit_on_texts(sentences)"
   ]
  },
  {
   "cell_type": "code",
   "execution_count": 18,
   "metadata": {},
   "outputs": [
    {
     "data": {
      "text/plain": [
       "{'<UNK>': 1,\n",
       " 'a': 2,\n",
       " 'use': 3,\n",
       " 'never': 4,\n",
       " 'word': 5,\n",
       " 'of': 6,\n",
       " 'you': 7,\n",
       " 'or': 8,\n",
       " 'to': 9,\n",
       " 'where': 10,\n",
       " 'if': 11,\n",
       " 'it': 12,\n",
       " 'cut': 13,\n",
       " 'out': 14,\n",
       " 'the': 15,\n",
       " 'can': 16,\n",
       " 'metaphor': 17,\n",
       " 'simile': 18,\n",
       " 'other': 19,\n",
       " 'figure': 20,\n",
       " 'speech': 21,\n",
       " 'which': 22,\n",
       " 'are': 23,\n",
       " 'used': 24,\n",
       " 'seeing': 25,\n",
       " 'in': 26,\n",
       " 'print': 27,\n",
       " 'long': 28,\n",
       " 'short': 29,\n",
       " 'one': 30,\n",
       " 'will': 31,\n",
       " 'do': 32,\n",
       " 'is': 33,\n",
       " 'possible': 34,\n",
       " 'always': 35,\n",
       " 'passive': 36,\n",
       " 'active': 37,\n",
       " 'foreign': 38,\n",
       " 'phrase': 39,\n",
       " 'scientific': 40,\n",
       " 'jargon': 41,\n",
       " 'think': 42,\n",
       " 'an': 43,\n",
       " 'everyday': 44,\n",
       " 'english': 45,\n",
       " 'equivalent': 46,\n",
       " 'break': 47,\n",
       " 'any': 48,\n",
       " 'these': 49,\n",
       " 'rules': 50,\n",
       " 'sooner': 51,\n",
       " 'than': 52,\n",
       " 'say': 53,\n",
       " 'anything': 54,\n",
       " 'outright': 55,\n",
       " 'barbarous': 56}"
      ]
     },
     "execution_count": 18,
     "metadata": {},
     "output_type": "execute_result"
    }
   ],
   "source": [
    "# Is this a corpus? What is a corpus?\n",
    "tokenizer.word_index"
   ]
  },
  {
   "cell_type": "code",
   "execution_count": 19,
   "metadata": {},
   "outputs": [
    {
     "data": {
      "text/plain": [
       "OrderedDict([('never', 4),\n",
       "             ('use', 5),\n",
       "             ('a', 7),\n",
       "             ('metaphor', 1),\n",
       "             ('simile', 1),\n",
       "             ('or', 2),\n",
       "             ('other', 1),\n",
       "             ('figure', 1),\n",
       "             ('of', 3),\n",
       "             ('speech', 1),\n",
       "             ('which', 1),\n",
       "             ('you', 3),\n",
       "             ('are', 1),\n",
       "             ('used', 1),\n",
       "             ('to', 2),\n",
       "             ('seeing', 1),\n",
       "             ('in', 1),\n",
       "             ('print', 1),\n",
       "             ('long', 1),\n",
       "             ('word', 4),\n",
       "             ('where', 2),\n",
       "             ('short', 1),\n",
       "             ('one', 1),\n",
       "             ('will', 1),\n",
       "             ('do', 1),\n",
       "             ('if', 2),\n",
       "             ('it', 2),\n",
       "             ('is', 1),\n",
       "             ('possible', 1),\n",
       "             ('cut', 2),\n",
       "             ('out', 2),\n",
       "             ('always', 1),\n",
       "             ('the', 2),\n",
       "             ('passive', 1),\n",
       "             ('can', 2),\n",
       "             ('active', 1),\n",
       "             ('foreign', 1),\n",
       "             ('phrase', 1),\n",
       "             ('scientific', 1),\n",
       "             ('jargon', 1),\n",
       "             ('think', 1),\n",
       "             ('an', 1),\n",
       "             ('everyday', 1),\n",
       "             ('english', 1),\n",
       "             ('equivalent', 1),\n",
       "             ('break', 1),\n",
       "             ('any', 1),\n",
       "             ('these', 1),\n",
       "             ('rules', 1),\n",
       "             ('sooner', 1),\n",
       "             ('than', 1),\n",
       "             ('say', 1),\n",
       "             ('anything', 1),\n",
       "             ('outright', 1),\n",
       "             ('barbarous', 1)])"
      ]
     },
     "execution_count": 19,
     "metadata": {},
     "output_type": "execute_result"
    }
   ],
   "source": [
    "tokenizer.word_counts"
   ]
  },
  {
   "cell_type": "markdown",
   "metadata": {},
   "source": [
    "## Word to sequences"
   ]
  },
  {
   "cell_type": "code",
   "execution_count": 20,
   "metadata": {},
   "outputs": [
    {
     "data": {
      "text/plain": [
       "[[4, 3, 2, 17, 18, 8, 19, 20, 6, 21, 22, 7, 23, 24, 9, 25, 26, 27],\n",
       " [4, 3, 2, 28, 5, 10, 2, 29, 30, 31, 32],\n",
       " [11, 12, 33, 34, 9, 13, 2, 5, 14, 35, 13, 12, 14],\n",
       " [4, 3, 15, 36, 10, 7, 16, 3, 15, 37],\n",
       " [4, 3, 2, 38, 39, 2, 40, 5, 8, 2, 41, 5, 11, 7, 16, 42, 6, 43, 44, 45, 46],\n",
       " [47, 48, 6, 49, 50, 51, 52, 53, 54, 55, 56]]"
      ]
     },
     "execution_count": 20,
     "metadata": {},
     "output_type": "execute_result"
    }
   ],
   "source": [
    "seq = tokenizer.texts_to_sequences(sentences)\n",
    "seq"
   ]
  },
  {
   "cell_type": "markdown",
   "metadata": {},
   "source": [
    "## Padding"
   ]
  },
  {
   "cell_type": "code",
   "execution_count": 23,
   "metadata": {},
   "outputs": [
    {
     "data": {
      "text/plain": [
       "array([[ 4,  3,  2, 17, 18,  8, 19, 20,  6, 21, 22,  7, 23, 24,  9, 25, 26, 27,  0,  0,  0],\n",
       "       [ 4,  3,  2, 28,  5, 10,  2, 29, 30, 31, 32,  0,  0,  0,  0,  0,  0,  0,  0,  0,  0],\n",
       "       [11, 12, 33, 34,  9, 13,  2,  5, 14, 35, 13, 12, 14,  0,  0,  0,  0,  0,  0,  0,  0],\n",
       "       [ 4,  3, 15, 36, 10,  7, 16,  3, 15, 37,  0,  0,  0,  0,  0,  0,  0,  0,  0,  0,  0],\n",
       "       [ 4,  3,  2, 38, 39,  2, 40,  5,  8,  2, 41,  5, 11,  7, 16, 42,  6, 43, 44, 45, 46],\n",
       "       [47, 48,  6, 49, 50, 51, 52, 53, 54, 55, 56,  0,  0,  0,  0,  0,  0,  0,  0,  0,  0]], dtype=int32)"
      ]
     },
     "execution_count": 23,
     "metadata": {},
     "output_type": "execute_result"
    }
   ],
   "source": [
    "pad_sequences(seq, padding='post')"
   ]
  },
  {
   "cell_type": "code",
   "execution_count": 25,
   "metadata": {},
   "outputs": [],
   "source": [
    "# [ 4,  3,  2, 17, 18,  8, 19, 20,  6, 21, 22,  7, 23, 24,  9, 25, 26, 27,  0,  0,  0],    >  'Never use a metaphor, simile, or other figure of speech which you are used to seeing in print.'\n",
    "# [ 4,  3,  2, 28,  5, 10,  2, 29, 30, 31, 32,  0,  0,  0,  0,  0,  0,  0,  0,  0,  0],    >  'Never use a long word where a short one will do.'\n",
    "# [11, 12, 33, 34,  9, 13,  2,  5, 14, 35, 13, 12, 14,  0,  0,  0,  0,  0,  0,  0,  0],    >  'If it is possible to cut a word out, always cut it out.'\n",
    "# [ 4,  3, 15, 36, 10,  7, 16,  3, 15, 37,  0,  0,  0,  0,  0,  0,  0,  0,  0,  0,  0],    >  'Never use the passive where you can use the active.'\n",
    "# [ 4,  3,  2, 38, 39,  2, 40,  5,  8,  2, 41,  5, 11,  7, 16, 42,  6, 43, 44, 45, 46],    >  'Never use a foreign phrase, a scientific word, or a jargon word if you can think of an everyday English equivalent.'\n",
    "# [47, 48,  6, 49, 50, 51, 52, 53, 54, 55, 56,  0,  0,  0,  0,  0,  0,  0,  0,  0,  0]     >  'Break any of these rules sooner than say anything outright barbarous.'"
   ]
  },
  {
   "cell_type": "markdown",
   "metadata": {},
   "source": [
    "## News Headline with Sarcasm Data"
   ]
  },
  {
   "cell_type": "code",
   "execution_count": 30,
   "metadata": {},
   "outputs": [],
   "source": [
    "# data wrangling\n",
    "import os\n",
    "import pandas as pd\n",
    "\n",
    "# preprocessing\n",
    "from tensorflow.keras.preprocessing.text import Tokenizer\n",
    "from tensorflow.keras.preprocessing.sequence import pad_sequences\n",
    "\n",
    "\n",
    "# modeling\n",
    "import tensorflow as tf\n",
    "\n",
    "## Load Data\n",
    "\n",
    "base_dir = 'data/sarcasm'\n",
    "file_name = 'Sarcasm_Headlines_Dataset.json'\n",
    "json_file = os.path.join(base_dir, file_name)\n",
    "\n",
    "df = pd.read_json(json_file, lines=True)\n",
    "headlines = df.headline.to_list()\n",
    "true_values = df.is_sarcastic.to_list()\n",
    "\n",
    "## Tokenize\n",
    "tokenizer = Tokenizer(num_words=10000, oov_token='<UNK>')\n",
    "tokenizer.fit_on_texts(headlines)\n",
    "seq = tokenizer.texts_to_sequences(headlines)\n",
    "padded_sequences = pad_sequences(seq)"
   ]
  },
  {
   "cell_type": "code",
   "execution_count": 29,
   "metadata": {},
   "outputs": [
    {
     "data": {
      "text/plain": [
       "array([[   0,    0,    0,    0,    0,    0,    0,    0,    0,    0,    0,    0,    0,    0,    0,    0,    0,    0,    0,    0,    0,    0,    0,    0,    0,    0,    0,    0,  308,    1,  679, 3337, 2298,   48,  382, 2576,    1,    6, 2577, 8434],\n",
       "       [   0,    0,    0,    0,    0,    0,    0,    0,    0,    0,    0,    0,    0,    0,    0,    0,    0,    0,    0,    0,    0,    0,    0,    0,    0,    0,    4, 8435, 3338, 2746,   22,    2,  166, 8436,  416, 3112,    6,  258,    9, 1002],\n",
       "       [   0,    0,    0,    0,    0,    0,    0,    0,    0,    0,    0,    0,    0,    0,    0,    0,    0,    0,    0,    0,    0,    0,    0,    0,    0,    0,  145,  838,    2,  907, 1749, 2093,  582, 4719,  221,  143,   39,   46,    2,    1],\n",
       "       [   0,    0,    0,    0,    0,    0,    0,    0,    0,    0,    0,    0,    0,    0,    0,    0,    0,    0,    0,    0,    0,    0,    0,    0,    0,    0, 1485,   36,  224,  400,    2, 1832,   29,  319,   22,   10, 2924, 1393, 6969,  968],\n",
       "       [   0,    0,    0,    0,    0,    0,    0,    0,    0,    0,    0,    0,    0,    0,    0,    0,    0,    0,    0,    0,    0,    0,    0,    0,    0,    0,    0,    0,  767,  719, 4720,  908,    1,  623,  594,    5,    4,   95, 1309,   92],\n",
       "       [   0,    0,    0,    0,    0,    0,    0,    0,    0,    0,    0,    0,    0,    0,    0,    0,    0,    0,    0,    0,    0,    0,    0,    0,    0,    0,    0,    0,    0,    0,    0,    0,    0,    0,    0,    0,    1,    4,  365,   73],\n",
       "       [   0,    0,    0,    0,    0,    0,    0,    0,    0,    0,    0,    0,    0,    0,    0,    0,    0,    0,    0,    0,    0,    0,    0,    0,    0,    0,    0,    0,    0,    0,    0,    0,    4, 6970,  351,    6,  461, 4274, 2195, 1486],\n",
       "       [   0,    0,    0,    0,    0,    0,    0,    0,    0,    0,    0,    0,    0,    0,    0,    0,    0,    0,    0,    0,    0,    0,    0,    0,    0,    0,   19,  479,   39, 1168,   31,  155,    2,   99,   83,   18,  158,    6,   32,  352],\n",
       "       [   0,    0,    0,    0,    0,    0,    0,    0,    0,    0,    0,    0,    0,    0,    0,    0,    0,    0,    0,    0,    0,    0,    0,    0,    0,    0,    0,    0,    0,    0,    0,    0,    0,  249, 3623, 6971,  555, 5274, 1995,  141],\n",
       "       [   0,    0,    0,    0,    0,    0,    0,    0,    0,    0,    0,    0,    0,    0,    0,    0,    0,    0,    0,    0,    0,    0,    0,    0,    0,    0,    0,    0,    0,    0,    0, 2094,  326,  347,  401,   60,    1,    6,    4, 3896],\n",
       "       [   0,    0,    0,    0,    0,    0,    0,    0,    0,    0,    0,    0,    0,    0,    0,    0,    0,    0,    0,    0,    0,    0,    0,    0,    0,    0,    0,    0,    0,    0, 2925, 1680, 4721,   14,   37, 4275, 6972,    5, 2095, 1103],\n",
       "       [   0,    0,    0,    0,    0,    0,    0,    0,    0,    0,    0,    0,    0,    0,    0,    0,    0,    0,    0,    0,    0,    0,    0,    0,    0,    0,    0,    0,    0,    0,    0,    0,  286,  782,  462,    8, 1556, 1911,    9, 3624],\n",
       "       [   0,    0,    0,    0,    0,    0,    0,    0,    0,    0,    0,    0,    0,    0,    0,    0,    0,    0,    0,    0,    0,    0,    0,    0,    0,    0,    0,    0,  234,  514, 2926,   13,    9,  929,  226,  369,    2, 4276,    1, 8437],\n",
       "       [   0,    0,    0,    0,    0,    0,    0,    0,    0,    0,    0,    0,    0,    0,    0,    0,    0,    0,    0,    0,    0,    0,    0,    0,    0,    0,    0,    0,    0,    0,  238, 3897, 8438, 3339,   38,  235,    1,    6,    7,  173],\n",
       "       [   0,    0,    0,    0,    0,    0,    0,    0,    0,    0,    0,    0,    0,    0,    0,    0,    0,    0,    0,    0,    0,    0,    0,    0,    0,    0,    0,    0,    0,    0,    0,    0,    1, 1394,  665,  651,    5,  327,    3, 1031],\n",
       "       [   0,    0,    0,    0,    0,    0,    0,    0,    0,    0,    0,    0,    0,    0,    0,    0,    0,    0,    0,    0,    0,    0,    0,    0,    0,    0,    0,    0,    0,    0,    0,  534, 2095,    1,  123,    1,    6,    1, 4722, 1912],\n",
       "       [   0,    0,    0,    0,    0,    0,    0,    0,    0,    0,    0,    0,    0,    0,    0,    0,    0,    0,    0,    0,    0,    0,    0,    0, 2578, 1395,  383,   45, 3898,  348,  319, 1032,    2,   24,    1,   20, 1104,  387,  103, 1310],\n",
       "       [   0,    0,    0,    0,    0,    0,    0,    0,    0,    0,    0,    0,    0,    0,    0,    0,    0,    0,    0,    0,    0,    0,    0,    0,    0,    0,    0,    0,    0,    0,    0,    0,    0, 1681, 8439, 3113, 8440,   20, 6973, 1218],\n",
       "       [   0,    0,    0,    0,    0,    0,    0,    0,    0,    0,    0,    0,    0,    0,    0,    0,    0,    0,    0,    0,    0,    0,    0,    0,    0,    0,    0,    0,    0,    0,    0,    1,  857,    2, 1913,  258, 1169,   36,  214, 2747],\n",
       "       [   0,    0,    0,    0,    0,    0,    0,    0,    0,    0,    0,    0,    0,    0,    0,    0,    0,    0,    0,    0,    0,    0,    0,    0,    0,    0,    0,    0,    0,    0,    0,    0,    0,    0,    0,    0,    0, 3625, 5275, 3114],\n",
       "       [   0,    0,    0,    0,    0,    0,    0,    0,    0,    0,    0,    0,    0,    0,    0,    0,    0,    0,    0,    0,    0,    0,    0,    0,    0,    0,    0,    0,    0,    0,    0,    0,    0, 8441, 3899,  858,   38, 1487,    1, 6974],\n",
       "       [   0,    0,    0,    0,    0,    0,    0,    0,    0,    0,    0,    0,    0,    0,    0,    0,    0,    0,    0,    0,    0,    0,    0,    0,   13, 1396,  133,   28,  802,    6,  733, 5276, 1219,   21, 3340, 2579,   35,   32, 1833,    1],\n",
       "       [   0,    0,    0,    0,    0,    0,    0,    0,    0,    0,    0,    0,    0,    0,    0,    0,    0,    0,    0,    0,    0,    0,    0,    0,    0,    0,    0,    0,    0, 3900,    1, 5963,   56,   37, 2927,  143,   75,    1,    9, 4723],\n",
       "       [   0,    0,    0,    0,    0,    0,    0,    0,    0,    0,    0,    0,    0,    0,    0,    0,    0,    0,    0,    0,    0,    0,    0,    0,    0,    0,    0,    0,    0,    0,    0,   19,   11,   45,   18, 1220,  199,    2,    4, 5964],\n",
       "       [   0,    0,    0,    0,    0,    0,    0,    0,    0,    0,    0,    0,    0,    0,    0,    0,    0,    0,    0,    0,    0,    0,    0,    0,    0,    0,    0,  544,  492,  783,    4, 2928, 3341, 1268,   87,  839, 1996, 3626,    3,    1],\n",
       "       ...,\n",
       "       [   0,    0,    0,    0,    0,    0,    0,    0,    0,    0,    0,    0,    0,    0,    0,    0,    0,    0,    0,    0,    0,    0,    0,    0,    0,    0,    0,    0,    1,   81,  141, 9729,  873,  488,    2, 2207, 5024,    3,  336, 6262],\n",
       "       [   0,    0,    0,    0,    0,    0,    0,    0,    0,    0,    0,    0,    0,    0,    0,    0,    0,    0,    0,    0,    0,    0,    0,    0,    0,    0,    0,    0,    0,    0,    0,  184, 1779, 6362,  905,   47,   14,  340,   32, 1349],\n",
       "       [   0,    0,    0,    0,    0,    0,    0,    0,    0,    0,    0,    0,    0,    0,    0,    0,    0,    0,    0,    0,    0,    0,    0,    0,    0,    0,    0,    0,    0, 8456,  733, 3147,    1,  123, 7151,    1, 3807, 1154, 3568,  329],\n",
       "       [   0,    0,    0,    0,    0,    0,    0,    0,    0,    0,    0,    0,    0,    0,    0,    0,    0,    0,    0,    0,    0,    0,    0,    0,    0,    0,    0,    0,    0,    0,    1,    1,    1,    9,    4, 2994,    2,   74,   27, 1448],\n",
       "       [   0,    0,    0,    0,    0,    0,    0,    0,    0,    0,    0,    0,    0,    0,    0,    0,    0,    0,    0,    0,    0,    0,    0,    0,    0,    0,   43,    1, 3678,    1,  307, 4120, 5977, 5003,    3,    1, 2658,  173,  797, 8272],\n",
       "       [   0,    0,    0,    0,    0,    0,    0,    0,    0,    0,    0,    0,    0,    0,    0,    0,    0,    0,    0,    0,    0,    0,    0,    0,    0,    0,    0,    0,  544,  492, 1711,   12,  302,  470,    6, 1977,  316,   64,    1,  464],\n",
       "       [   0,    0,    0,    0,    0,    0,    0,    0,    0,    0,    0,    0,    0,    0,    0,    0,    0,    0,    0,    0,    0,    0,    0,    0,    0,    0,    0,    0,    0,    0, 1042, 9448,    5, 8355,   55,  288,  180,    5, 1101,  103],\n",
       "       [   0,    0,    0,    0,    0,    0,    0,    0,    0,    0,    0,    0,    0,    0,    0,    0,    0,    0,    0,    0,    0,    0,    0,    0,    0,    0,    0,  612, 5849, 2884,   42, 5013, 5004,   22,  822,   58,    1, 6875,  542, 4091],\n",
       "       [   0,    0,    0,    0,    0,    0,    0,    0,    0,    0,    0,    0,    0,    0,    0,    0,    0,    0,    0,    0,    0,    0,    0,    0,    0,    0,    0,    0,    0,    0,    0,    0,    0,    0,    0,    1,  789, 3171,  471,  728],\n",
       "       [   0,    0,    0,    0,    0,    0,    0,    0,    0,    0,    0,    0,    0,    0,    0,    0,    0,    0,    0,    0,    0,    0,    0,    0,    0,    0,    0,    0,    0,    0,   12, 8406, 1146,    3, 1287,   25,   61, 8406,  460,  135],\n",
       "       [   0,    0,    0,    0,    0,    0,    0,    0,    0,    0,    0,    0,    0,    0,    0,    0,    0,    0,    0,    0,    0,    0,    0,    0,    0,    0,    0,    0,    0,    0,  516,  137, 3409,    5,  536, 3268,    3, 2011, 3226,  854],\n",
       "       [   0,    0,    0,    0,    0,    0,    0,    0,    0,    0,    0,    0,    0,    0,    0,    0,    0,    0,    0,    0,    0,    0,    0,    0,    0,    0,    0,    0,    0,    0, 3086, 1129,    1,    6, 4473,    1,    1, 1142,   15,    1],\n",
       "       [   0,    0,    0,    0,    0,    0,    0,    0,    0,    0,    0,    0,    0,    0,    0,    0,    0,    0,    0,    0,    0,    0,    0,    0,    0,    0,    0,    0,    0,    0,    1, 1061,    1,    1,    2, 5924, 1389,    8,  438,  252],\n",
       "       [   0,    0,    0,    0,    0,    0,    0,    0,    0,    0,    0,    0,    0,    0,    0,    0,    0,    0,    0,    0,    0,    0,    0,    0,    0,    0,    0, 3618,    1, 3293,    3,    4,  880,    1,    2,  917,  537, 6994,  115,    1],\n",
       "       [   0,    0,    0,    0,    0,    0,    0,    0,    0,    0,    0,    0,    0,    0,    0,    0,    0,    0,    0,    0,    0,    0,    0,    0,    0,    0,    0,    0, 2527,    1,   50,   53,  180, 3056,   21,  374, 1132,    2,  363, 3701],\n",
       "       [   0,    0,    0,    0,    0,    0,    0,    0,    0,    0,    0,    0,    0,    0,    0,    0,    0,    0,    0,    0,    0,    0,    0,    0,    0,    0,    0,    0,    0,    0,   33,   18,  105,  589,   31,    1,  315, 1132,    2, 6918],\n",
       "       [   0,    0,    0,    0,    0,    0,    0,    0,    0,    0,    0,    0,    0,    0,    0,    0,    0,    0,    0,    0,    0,    0,    0,    0,    0,    0,  568,    5,   31,    1,  511,    8,   33,    2,   93,   85, 4072, 2858,  471, 5429],\n",
       "       [   0,    0,    0,    0,    0,    0,    0,    0,    0,    0,    0,    0,    0,    0,    0,    0,    0,    0,    0,    0,    0,    0,    0,    0,    0,    0,    0,    0,    0,    0,  266,  402,   11,   40,    3,    7, 3115,   14,   76,  217],\n",
       "       [   0,    0,    0,    0,    0,    0,    0,    0,    0,    0,    0,    0,    0,    0,    0,    0,    0,    0,    0,    0,    0,    0,    0,    0,    0,    0,    0,    0,    0, 2390,    2, 9008, 1001, 1728,   23,    3, 2164,    6,  113,  950],\n",
       "       [   0,    0,    0,    0,    0,    0,    0,    0,    0,    0,    0,    0,    0,    0,    0,    0,    0,    0,    0,    0,    0,    0,    0,    0,    0,    0,    0,    0,    0,    0,    0,  297,  615,  608, 4192,    1,   34,  214,    6,  362],\n",
       "       [   0,    0,    0,    0,    0,    0,    0,    0,    0,    0,    0,    0,    0,    0,    0,    0,    0,    0,    0,    0,    0,    0,    0,    0,    0,    0,    0,    0,    0,    0,    0,    0,    0,    0,  113,  689,    5, 3526,  288,  726],\n",
       "       [   0,    0,    0,    0,    0,    0,    0,    0,    0,    0,    0,    0,    0,    0,    0,    0,    0,    0,    0,    0,    0,    0,    0,    0,    0,    0,    0,    0,    0,    0,    0,    0,    0,    0,    0,    0,  635,  102,  255,    1],\n",
       "       [   0,    0,    0,    0,    0,    0,    0,    0,    0,    0,    0,    0,    0,    0,    0,    0,    0,    0,    0,    0,    0,    0,    0,    0,    0,    0,    0,    0,    0,    0,    0,    0,    0,    0,    0,    0,    0,    1,    9,   68],\n",
       "       [   0,    0,    0,    0,    0,    0,    0,    0,    0,    0,    0,    0,    0,    0,    0,    0,    0,    0,    0,    0,    0,    0,    0,    0,    0,    0,    0,    0,    0,    0,    0,    0, 1541,  392, 4164, 5634,  912, 1731, 3803, 3562],\n",
       "       [   0,    0,    0,    0,    0,    0,    0,    0,    0,    0,    0,    0,    0,    0,    0,    0,    0,    0,    0,    0,    0,    0,    0,    0,    0,    0,    0,    0,    0,    0,    0,    0,    0,    0,    1, 1647,    6,    4,    1,  825]], dtype=int32)"
      ]
     },
     "execution_count": 29,
     "metadata": {},
     "output_type": "execute_result"
    }
   ],
   "source": [
    "padded_sequences"
   ]
  },
  {
   "cell_type": "code",
   "execution_count": null,
   "metadata": {},
   "outputs": [],
   "source": []
  }
 ],
 "metadata": {
  "kernelspec": {
   "display_name": "Python 3",
   "language": "python",
   "name": "python3"
  },
  "language_info": {
   "codemirror_mode": {
    "name": "ipython",
    "version": 3
   },
   "file_extension": ".py",
   "mimetype": "text/x-python",
   "name": "python",
   "nbconvert_exporter": "python",
   "pygments_lexer": "ipython3",
   "version": "3.6.10"
  }
 },
 "nbformat": 4,
 "nbformat_minor": 4
}

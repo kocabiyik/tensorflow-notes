{
 "cells": [
  {
   "cell_type": "markdown",
   "metadata": {},
   "source": [
    "Things to learn in this section:\n",
    "\n",
    "✔️  Use TensorFlow 2.x.  \n",
    "✔️  Build, compile and train machine learning (ML) models using TensorFlow.  \n",
    "✔️  Preprocess data to get it ready for use in a model.  \n",
    "✔️  Use models to predict results.  \n",
    "✔️  Build sequential models with multiple layers.  \n",
    "✔️  Build and train models for multi-class categorization.  \n",
    "✔️  Plot loss and accuracy of a trained model.  \n",
    "✔️  Identify strategies to prevent overfitting, including augmentation and dropou  \n",
    "✔️  Ensure that inputs to a model are in the correct shape.  \n",
    "✔️  Ensure that you can match test data to the input shape of a neural network.  \n",
    "✔️  Ensure you can match output data of a neural network to specified input shape for test data.  \n",
    "✔️  Use callbacks to trigger the end of training cycles.  \n",
    "✔️  Use datasets from tf.data.datasets.  \n"
   ]
  },
  {
   "cell_type": "code",
   "execution_count": 1,
   "metadata": {},
   "outputs": [],
   "source": [
    "import numpy as np\n",
    "import matplotlib.pyplot as plt\n",
    "\n",
    "import tensorflow as tf\n",
    "import tensorflow_datasets as tfds\n",
    "\n",
    "from tensorflow.keras.layers import Dense, Flatten, Conv2D, MaxPooling2D\n",
    "from tensorflow.keras.models import Sequential\n",
    "from tensorflow.keras.utils import to_categorical"
   ]
  },
  {
   "cell_type": "markdown",
   "metadata": {},
   "source": [
    "__Use datasets from tf.data.datasets__"
   ]
  },
  {
   "cell_type": "code",
   "execution_count": 2,
   "metadata": {},
   "outputs": [],
   "source": [
    "ds, info = tfds.load('mnist', split='train', shuffle_files=True, with_info=True)"
   ]
  },
  {
   "cell_type": "code",
   "execution_count": 3,
   "metadata": {},
   "outputs": [
    {
     "data": {
      "text/plain": [
       "tfds.core.DatasetInfo(\n",
       "    name='mnist',\n",
       "    version=3.0.1,\n",
       "    description='The MNIST database of handwritten digits.',\n",
       "    homepage='http://yann.lecun.com/exdb/mnist/',\n",
       "    features=FeaturesDict({\n",
       "        'image': Image(shape=(28, 28, 1), dtype=tf.uint8),\n",
       "        'label': ClassLabel(shape=(), dtype=tf.int64, num_classes=10),\n",
       "    }),\n",
       "    total_num_examples=70000,\n",
       "    splits={\n",
       "        'test': 10000,\n",
       "        'train': 60000,\n",
       "    },\n",
       "    supervised_keys=('image', 'label'),\n",
       "    citation=\"\"\"@article{lecun2010mnist,\n",
       "      title={MNIST handwritten digit database},\n",
       "      author={LeCun, Yann and Cortes, Corinna and Burges, CJ},\n",
       "      journal={ATT Labs [Online]. Available: http://yann. lecun. com/exdb/mnist},\n",
       "      volume={2},\n",
       "      year={2010}\n",
       "    }\"\"\",\n",
       "    redistribution_info=,\n",
       ")"
      ]
     },
     "execution_count": 3,
     "metadata": {},
     "output_type": "execute_result"
    }
   ],
   "source": [
    "info"
   ]
  },
  {
   "cell_type": "code",
   "execution_count": 4,
   "metadata": {},
   "outputs": [],
   "source": [
    "images = []\n",
    "labels = []\n",
    "for example in tfds.as_numpy(ds):\n",
    "    image, label = example[\"image\"], example[\"label\"]\n",
    "    images.append(image)\n",
    "    labels.append(label)\n",
    "\n",
    "images = np.array(images)\n",
    "images = images/255\n",
    "labels = to_categorical(np.array(labels))"
   ]
  },
  {
   "cell_type": "markdown",
   "metadata": {},
   "source": [
    "- __Use callbacks to trigger the end of training cycles.__  "
   ]
  },
  {
   "cell_type": "code",
   "execution_count": 5,
   "metadata": {},
   "outputs": [],
   "source": [
    "ACCURACY_THRESHOLD = 0.99\n",
    "\n",
    "# create a callback\n",
    "class stopTraining(tf.keras.callbacks.Callback):\n",
    "    def on_epoch_end(self, epoch, logs={}):\n",
    "        if(logs.get('accuracy')>ACCURACY_THRESHOLD):\n",
    "            print(str('\\n'+str(ACCURACY_THRESHOLD)+' accuracy level reached.'))\n",
    "            self.model.stop_training=True\n",
    "\n",
    "cb_acc_level_reached = stopTraining()"
   ]
  },
  {
   "cell_type": "markdown",
   "metadata": {},
   "source": [
    "- __Building A Sequential Model__\n",
    "- __Understand how to use convolutions to improve your neural network__  \n",
    "- __Build, compile and train machine learning (ML) models using TensorFlow__  "
   ]
  },
  {
   "cell_type": "code",
   "execution_count": 6,
   "metadata": {},
   "outputs": [
    {
     "name": "stdout",
     "output_type": "stream",
     "text": [
      "Train on 60000 samples\n",
      "Epoch 1/10\n",
      "60000/60000 [==============================] - 17s 281us/sample - loss: 0.2330 - accuracy: 0.9291\n",
      "Epoch 2/10\n",
      "60000/60000 [==============================] - 17s 283us/sample - loss: 0.0797 - accuracy: 0.9764\n",
      "Epoch 3/10\n",
      "60000/60000 [==============================] - 17s 286us/sample - loss: 0.0532 - accuracy: 0.9836\n",
      "Epoch 4/10\n",
      "60000/60000 [==============================] - 20s 336us/sample - loss: 0.0391 - accuracy: 0.9876\n",
      "Epoch 5/10\n",
      "59872/60000 [============================>.] - ETA: 0s - loss: 0.0293 - accuracy: 0.9910\n",
      "0.99 accuracy level reached.\n",
      "60000/60000 [==============================] - 19s 310us/sample - loss: 0.0293 - accuracy: 0.9910\n"
     ]
    }
   ],
   "source": [
    "# build\n",
    "model = Sequential([\n",
    "    \n",
    "    Conv2D(filters=16, kernel_size = (3,3), activation=tf.nn.relu, input_shape=(28, 28 ,1)),\n",
    "    MaxPooling2D(pool_size=(2,2), padding='same'),\n",
    "    \n",
    "    Flatten(input_shape=[28,28]),\n",
    "    \n",
    "    Dense(128, activation=tf.nn.relu),\n",
    "    Dense(10, activation=tf.nn.softmax)\n",
    "])\n",
    "\n",
    "# compile\n",
    "model.compile(\n",
    "    loss='categorical_crossentropy',                                               # sparse_categorical_crossentropy can be used, without one-hot-encoding for y\n",
    "    optimizer=tf.optimizers.SGD(learning_rate=0.01, momentum=0.9),\n",
    "    metrics=['accuracy']\n",
    ")\n",
    "\n",
    "# train\n",
    "history = model.fit(\n",
    "    images,\n",
    "    labels,\n",
    "    epochs=10, verbose=1,\n",
    "    callbacks= [cb_acc_level_reached]\n",
    "         )"
   ]
  },
  {
   "cell_type": "markdown",
   "metadata": {},
   "source": [
    "- __Use models to predict results__  "
   ]
  },
  {
   "cell_type": "code",
   "execution_count": 7,
   "metadata": {},
   "outputs": [],
   "source": [
    "ds, info = tfds.load('mnist', split='test', shuffle_files=True, with_info=True)"
   ]
  },
  {
   "cell_type": "code",
   "execution_count": 18,
   "metadata": {},
   "outputs": [],
   "source": [
    "images_test = []\n",
    "labels_test = []\n",
    "for example in tfds.as_numpy(ds):\n",
    "    image, label = example[\"image\"], example[\"label\"]\n",
    "    images_test.append(image)\n",
    "    labels_test.append(label)\n",
    "\n",
    "images_test = np.array(images_test)\n",
    "images_test = images_test/255"
   ]
  },
  {
   "cell_type": "code",
   "execution_count": 25,
   "metadata": {},
   "outputs": [],
   "source": [
    "predictions = model.predict(images_test)\n",
    "predictions = np.argmax(predictions, axis=1) # one-hot-encoding to integer"
   ]
  },
  {
   "cell_type": "code",
   "execution_count": 26,
   "metadata": {},
   "outputs": [
    {
     "data": {
      "text/plain": [
       "array([2, 0, 4, ..., 8, 0, 5])"
      ]
     },
     "execution_count": 26,
     "metadata": {},
     "output_type": "execute_result"
    }
   ],
   "source": [
    "predictions"
   ]
  },
  {
   "cell_type": "code",
   "execution_count": 24,
   "metadata": {},
   "outputs": [
    {
     "data": {
      "text/plain": [
       "9842"
      ]
     },
     "execution_count": 24,
     "metadata": {},
     "output_type": "execute_result"
    }
   ],
   "source": [
    "np.sum(np.array(labels_test) == predictions)"
   ]
  },
  {
   "cell_type": "markdown",
   "metadata": {},
   "source": [
    "- __Plotting Accuracy__"
   ]
  },
  {
   "cell_type": "code",
   "execution_count": 9,
   "metadata": {},
   "outputs": [],
   "source": [
    "plt.plot(acc)"
   ]
  }
 ],
 "metadata": {
  "kernelspec": {
   "display_name": "Python 3",
   "language": "python",
   "name": "python3"
  },
  "language_info": {
   "codemirror_mode": {
    "name": "ipython",
    "version": 3
   },
   "file_extension": ".py",
   "mimetype": "text/x-python",
   "name": "python",
   "nbconvert_exporter": "python",
   "pygments_lexer": "ipython3",
   "version": "3.6.10"
  }
 },
 "nbformat": 4,
 "nbformat_minor": 4
}
